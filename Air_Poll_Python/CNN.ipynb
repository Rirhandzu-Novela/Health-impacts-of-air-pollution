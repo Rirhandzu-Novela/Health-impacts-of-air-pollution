{
 "cells": [
  {
   "cell_type": "markdown",
   "id": "ec1d9733",
   "metadata": {},
   "source": [
    "# Import"
   ]
  },
  {
   "cell_type": "code",
   "execution_count": 1,
   "id": "8468f4ae",
   "metadata": {},
   "outputs": [
    {
     "name": "stdout",
     "output_type": "stream",
     "text": [
      "2.9.1\n"
     ]
    }
   ],
   "source": [
    "import numpy as np\n",
    "import pandas as pd\n",
    "from math import sqrt\n",
    "import matplotlib.pyplot as plt\n",
    "from matplotlib import rcParams\n",
    "from keras.models import Sequential\n",
    "from keras.layers import Dense\n",
    "from keras.layers import LSTM\n",
    "from keras.layers import Flatten\n",
    "from keras.layers.convolutional import Conv1D\n",
    "from keras.layers.convolutional import MaxPooling1D\n",
    "from sklearn.preprocessing import MinMaxScaler\n",
    "from sklearn.model_selection import train_test_split\n",
    "from sklearn.metrics import r2_score\n",
    "from sklearn.metrics import mean_squared_error\n",
    "from sklearn.metrics import mean_absolute_error\n",
    "from sklearn.metrics import mean_absolute_percentage_error\n",
    "\n",
    "%matplotlib inline\n",
    "#%tensorflow_version 1.x\n",
    "import tensorflow as tf\n",
    "print(tf.__version__)\n"
   ]
  },
  {
   "cell_type": "markdown",
   "id": "b66744f0",
   "metadata": {},
   "source": [
    "## load dataset"
   ]
  },
  {
   "cell_type": "code",
   "execution_count": 2,
   "id": "51f8628e",
   "metadata": {},
   "outputs": [],
   "source": [
    "dataset = pd.read_csv('ErmeloIMPM10.csv', sep =';', header=0, index_col=0)\n",
    "values = dataset.values"
   ]
  },
  {
   "cell_type": "markdown",
   "id": "cd04efa7",
   "metadata": {},
   "source": [
    "## Plot pm2.5"
   ]
  },
  {
   "cell_type": "code",
   "execution_count": 3,
   "id": "a5279d95",
   "metadata": {},
   "outputs": [
    {
     "data": {
      "image/png": "[encoded data removed]",
      "text/plain": [
       "<Figure size 432x288 with 1 Axes>"
      ]
     },
     "metadata": {
      "needs_background": "light"
     },
     "output_type": "display_data"
    }
   ],
   "source": [
    "plt.plot(values[:,0])\n",
    "plt.ylabel(dataset.columns[0])\n",
    "plt.show()"
   ]
  },
  {
   "cell_type": "markdown",
   "id": "abb7c362",
   "metadata": {},
   "source": [
    "## Data preparation\n",
    "\n",
    "We need a way to prepare the data for whatever way we would like to formulate the problem.\n",
    "\n",
    "In this case we are formulating it such that we take in 1 time step input (14 variables) and output 1 time step output (1 variable). In other words we are trying to solve the following question: given the pollution and weather conditions of the previous hour, can we predict the PM2.5 level for the next hour.\n",
    "\n",
    "The single variable we are outputing is the PM2.5 level. Note we also use PM2.5 level in our input.\n",
    "\n",
    "Credit for this code: https://machinelearningmastery.com/convert-time-series-supervised-learning-problem-python/"
   ]
  },
  {
   "cell_type": "code",
   "execution_count": 4,
   "id": "dd5c2777",
   "metadata": {},
   "outputs": [],
   "source": [
    "def series_to_supervised(data, n_in=1, n_out=1, dropnan=True):\n",
    "    n_vars = 1 if type(data) is list else data.shape[1]\n",
    "    df = pd.DataFrame(data)\n",
    "    cols, names = list(), list()\n",
    "    # input sequence (t-n, ... t-1)\n",
    "    for i in range(n_in, 0, -1):\n",
    "        cols.append(df.shift(i))\n",
    "        names += [('var%d(t-%d)' % (j+1, i)) for j in range(n_vars)]\n",
    "    # forecast sequence (t, t+1, ... t+n)\n",
    "    for i in range(0, n_out):\n",
    "        cols.append(df.shift(-i))\n",
    "        if i == 0:\n",
    "            names += [('var%d(t)' % (j+1)) for j in range(n_vars)]\n",
    "        else:\n",
    "            names += [('var%d(t+%d)' % (j+1, i)) for j in range(n_vars)]\n",
    "    # put it all together\n",
    "    agg = pd.concat(cols, axis=1)\n",
    "    agg.columns = names\n",
    "    # drop rows with NaN values\n",
    "    if dropnan:\n",
    "        agg.dropna(inplace=True)\n",
    "    return agg"
   ]
  },
  {
   "cell_type": "markdown",
   "id": "c262f072",
   "metadata": {},
   "source": [
    "## Get column names"
   ]
  },
  {
   "cell_type": "code",
   "execution_count": 5,
   "id": "bbfc14ab",
   "metadata": {},
   "outputs": [
    {
     "data": {
      "text/plain": [
       "Index(['pm10', 'pm2.5', 'so2', 'no2', 'no', 'nox', 'o3', 'co', 'ws', 'wd',\n",
       "       'temp', 'relHum', 'pressure'],\n",
       "      dtype='object')"
      ]
     },
     "execution_count": 5,
     "metadata": {},
     "output_type": "execute_result"
    }
   ],
   "source": [
    "dataset.columns"
   ]
  },
  {
   "cell_type": "markdown",
   "id": "5a628c1d",
   "metadata": {},
   "source": [
    "##Actually perform the data preparation\n",
    "\n",
    "We scale the values between 0 and 1.\n",
    "\n",
    "The code which converts the data into the suitable way we want, in this case, will produce 14 output variables. In our case we only want to predict PM2.5, that is why we drop the other collumns from the dataframe.\n",
    "\n",
    "Credit for this code: https://machinelearningmastery.com/multivariate-time-series-forecasting-lstms-keras/"
   ]
  },
  {
   "cell_type": "code",
   "execution_count": 6,
   "id": "68094b1e",
   "metadata": {},
   "outputs": [],
   "source": [
    "# ensure all data is float\n",
    "values = values.astype('float32')\n",
    "\n",
    "# normalize features\n",
    "scaler = MinMaxScaler(feature_range=(0, 1))\n",
    "scaled = scaler.fit_transform(values)\n",
    "\n",
    "# frame as supervised learning\n",
    "reframed = series_to_supervised(scaled, 1, 1)\n",
    "\n",
    "# drop columns we don't want to predict\n",
    "# We drop these because we are only interested in predicting for a single variable (pollution).\n",
    "# If we don't drop, then we will be predicting for all the variables too!\n",
    "reframed.drop(reframed.columns[[14, 15, 16, 17, 18, 19, 20, 21, 22, 23, 24, 25]], axis=1, inplace=True)\n",
    "values = reframed.values"
   ]
  },
  {
   "cell_type": "markdown",
   "id": "8ee9522d",
   "metadata": {},
   "source": [
    "## View the data"
   ]
  },
  {
   "cell_type": "code",
   "execution_count": 7,
   "id": "44d39eda",
   "metadata": {},
   "outputs": [
    {
     "data": {
      "text/html": [
       "<div>\n",
       "<style scoped>\n",
       "    .dataframe tbody tr th:only-of-type {\n",
       "        vertical-align: middle;\n",
       "    }\n",
       "\n",
       "    .dataframe tbody tr th {\n",
       "        vertical-align: top;\n",
       "    }\n",
       "\n",
       "    .dataframe thead th {\n",
       "        text-align: right;\n",
       "    }\n",
       "</style>\n",
       "<table border=\"1\" class=\"dataframe\">\n",
       "  <thead>\n",
       "    <tr style=\"text-align: right;\">\n",
       "      <th></th>\n",
       "      <th>var1(t-1)</th>\n",
       "      <th>var2(t-1)</th>\n",
       "      <th>var3(t-1)</th>\n",
       "      <th>var4(t-1)</th>\n",
       "      <th>var5(t-1)</th>\n",
       "      <th>var6(t-1)</th>\n",
       "      <th>var7(t-1)</th>\n",
       "      <th>var8(t-1)</th>\n",
       "      <th>var9(t-1)</th>\n",
       "      <th>var10(t-1)</th>\n",
       "      <th>var11(t-1)</th>\n",
       "      <th>var12(t-1)</th>\n",
       "      <th>var13(t-1)</th>\n",
       "      <th>var1(t)</th>\n",
       "    </tr>\n",
       "  </thead>\n",
       "  <tbody>\n",
       "    <tr>\n",
       "      <th>1</th>\n",
       "      <td>0.019660</td>\n",
       "      <td>0.022731</td>\n",
       "      <td>0.007485</td>\n",
       "      <td>0.065281</td>\n",
       "      <td>0.011332</td>\n",
       "      <td>0.011225</td>\n",
       "      <td>0.364375</td>\n",
       "      <td>0.0029</td>\n",
       "      <td>0.316107</td>\n",
       "      <td>0.228985</td>\n",
       "      <td>0.471635</td>\n",
       "      <td>0.858211</td>\n",
       "      <td>0.169818</td>\n",
       "      <td>0.029914</td>\n",
       "    </tr>\n",
       "    <tr>\n",
       "      <th>2</th>\n",
       "      <td>0.029914</td>\n",
       "      <td>0.032196</td>\n",
       "      <td>0.009913</td>\n",
       "      <td>0.065281</td>\n",
       "      <td>0.011131</td>\n",
       "      <td>0.014985</td>\n",
       "      <td>0.344774</td>\n",
       "      <td>0.0039</td>\n",
       "      <td>0.269799</td>\n",
       "      <td>0.398161</td>\n",
       "      <td>0.470346</td>\n",
       "      <td>0.854179</td>\n",
       "      <td>0.169861</td>\n",
       "      <td>0.023829</td>\n",
       "    </tr>\n",
       "    <tr>\n",
       "      <th>3</th>\n",
       "      <td>0.023829</td>\n",
       "      <td>0.027696</td>\n",
       "      <td>0.011566</td>\n",
       "      <td>0.065281</td>\n",
       "      <td>0.005864</td>\n",
       "      <td>0.008854</td>\n",
       "      <td>0.352574</td>\n",
       "      <td>0.0019</td>\n",
       "      <td>0.156376</td>\n",
       "      <td>0.598172</td>\n",
       "      <td>0.474214</td>\n",
       "      <td>0.847099</td>\n",
       "      <td>0.169943</td>\n",
       "      <td>0.108117</td>\n",
       "    </tr>\n",
       "    <tr>\n",
       "      <th>4</th>\n",
       "      <td>0.108117</td>\n",
       "      <td>0.108746</td>\n",
       "      <td>0.042767</td>\n",
       "      <td>0.065281</td>\n",
       "      <td>0.006968</td>\n",
       "      <td>0.011730</td>\n",
       "      <td>0.360074</td>\n",
       "      <td>0.0039</td>\n",
       "      <td>0.189262</td>\n",
       "      <td>0.704511</td>\n",
       "      <td>0.469572</td>\n",
       "      <td>0.881514</td>\n",
       "      <td>0.170065</td>\n",
       "      <td>0.090864</td>\n",
       "    </tr>\n",
       "    <tr>\n",
       "      <th>5</th>\n",
       "      <td>0.090864</td>\n",
       "      <td>0.086102</td>\n",
       "      <td>0.069113</td>\n",
       "      <td>0.065281</td>\n",
       "      <td>0.007670</td>\n",
       "      <td>0.017130</td>\n",
       "      <td>0.415077</td>\n",
       "      <td>0.0049</td>\n",
       "      <td>0.277852</td>\n",
       "      <td>0.810517</td>\n",
       "      <td>0.453584</td>\n",
       "      <td>0.865290</td>\n",
       "      <td>0.170225</td>\n",
       "      <td>0.018282</td>\n",
       "    </tr>\n",
       "  </tbody>\n",
       "</table>\n",
       "</div>"
      ],
      "text/plain": [
       "   var1(t-1)  var2(t-1)  var3(t-1)  var4(t-1)  var5(t-1)  var6(t-1)  \\\n",
       "1   0.019660   0.022731   0.007485   0.065281   0.011332   0.011225   \n",
       "2   0.029914   0.032196   0.009913   0.065281   0.011131   0.014985   \n",
       "3   0.023829   0.027696   0.011566   0.065281   0.005864   0.008854   \n",
       "4   0.108117   0.108746   0.042767   0.065281   0.006968   0.011730   \n",
       "5   0.090864   0.086102   0.069113   0.065281   0.007670   0.017130   \n",
       "\n",
       "   var7(t-1)  var8(t-1)  var9(t-1)  var10(t-1)  var11(t-1)  var12(t-1)  \\\n",
       "1   0.364375     0.0029   0.316107    0.228985    0.471635    0.858211   \n",
       "2   0.344774     0.0039   0.269799    0.398161    0.470346    0.854179   \n",
       "3   0.352574     0.0019   0.156376    0.598172    0.474214    0.847099   \n",
       "4   0.360074     0.0039   0.189262    0.704511    0.469572    0.881514   \n",
       "5   0.415077     0.0049   0.277852    0.810517    0.453584    0.865290   \n",
       "\n",
       "   var13(t-1)   var1(t)  \n",
       "1    0.169818  0.029914  \n",
       "2    0.169861  0.023829  \n",
       "3    0.169943  0.108117  \n",
       "4    0.170065  0.090864  \n",
       "5    0.170225  0.018282  "
      ]
     },
     "execution_count": 7,
     "metadata": {},
     "output_type": "execute_result"
    }
   ],
   "source": [
    "reframed.head()"
   ]
  },
  {
   "cell_type": "markdown",
   "id": "f3e625c4",
   "metadata": {},
   "source": [
    "## Create X and Y variables"
   ]
  },
  {
   "cell_type": "code",
   "execution_count": 8,
   "id": "cf58ef07",
   "metadata": {},
   "outputs": [
    {
     "data": {
      "text/plain": [
       "(87646, 14)"
      ]
     },
     "execution_count": 8,
     "metadata": {},
     "output_type": "execute_result"
    }
   ],
   "source": [
    "values.shape"
   ]
  },
  {
   "cell_type": "code",
   "execution_count": 9,
   "id": "ca1e4b00",
   "metadata": {},
   "outputs": [],
   "source": [
    "X = values[:,:-1]"
   ]
  },
  {
   "cell_type": "code",
   "execution_count": 10,
   "id": "6788de1c",
   "metadata": {},
   "outputs": [],
   "source": [
    "Y = values[:,-1]"
   ]
  },
  {
   "cell_type": "markdown",
   "id": "c8d52993",
   "metadata": {},
   "source": [
    "## Check the shapes"
   ]
  },
  {
   "cell_type": "code",
   "execution_count": 11,
   "id": "b733065b",
   "metadata": {},
   "outputs": [
    {
     "data": {
      "text/plain": [
       "(87646, 13)"
      ]
     },
     "execution_count": 11,
     "metadata": {},
     "output_type": "execute_result"
    }
   ],
   "source": [
    "X.shape"
   ]
  },
  {
   "cell_type": "code",
   "execution_count": 12,
   "id": "37c2a082",
   "metadata": {},
   "outputs": [
    {
     "data": {
      "text/plain": [
       "(87646,)"
      ]
     },
     "execution_count": 12,
     "metadata": {},
     "output_type": "execute_result"
    }
   ],
   "source": [
    "Y.shape"
   ]
  },
  {
   "cell_type": "markdown",
   "id": "bd4541a1",
   "metadata": {},
   "source": [
    "## Reshaping\n",
    "\n",
    "reshape from [samples, timesteps] into [samples, subsequences, timesteps, features]"
   ]
  },
  {
   "cell_type": "code",
   "execution_count": 13,
   "id": "9e57a19a",
   "metadata": {},
   "outputs": [],
   "source": [
    "X = X.reshape(X.shape[0],1,X.shape[1])"
   ]
  },
  {
   "cell_type": "code",
   "execution_count": 14,
   "id": "d9f99572",
   "metadata": {},
   "outputs": [
    {
     "data": {
      "text/plain": [
       "(87646, 1, 13)"
      ]
     },
     "execution_count": 14,
     "metadata": {},
     "output_type": "execute_result"
    }
   ],
   "source": [
    "X.shape"
   ]
  },
  {
   "cell_type": "markdown",
   "id": "9a1b9489",
   "metadata": {},
   "source": [
    "## Training, validation and testing split"
   ]
  },
  {
   "cell_type": "code",
   "execution_count": 15,
   "id": "754e3096",
   "metadata": {},
   "outputs": [],
   "source": [
    "X_train, X_test, Y_train, Y_test = train_test_split(X, Y, test_size=0.20, random_state=42)\n",
    "X_train, X_val, Y_train, Y_val = train_test_split(X_train, Y_train, test_size=0.20, random_state=42)"
   ]
  },
  {
   "cell_type": "markdown",
   "id": "36c7c079",
   "metadata": {},
   "source": [
    "## Check the shape"
   ]
  },
  {
   "cell_type": "code",
   "execution_count": 16,
   "id": "0f4a829a",
   "metadata": {},
   "outputs": [
    {
     "name": "stdout",
     "output_type": "stream",
     "text": [
      "X_train: (56092, 1, 13)\n",
      "Y_train: (56092,)\n",
      "\n",
      "X_val: (14024, 1, 13)\n",
      "Y_val: (14024,)\n",
      "\n",
      "X_test: (17530, 1, 13)\n",
      "Y_test: (17530,)\n"
     ]
    }
   ],
   "source": [
    "print ('X_train:',X_train.shape)\n",
    "print ('Y_train:',Y_train.shape)\n",
    "print ()\n",
    "print ('X_val:',X_val.shape)\n",
    "print ('Y_val:',Y_val.shape)\n",
    "print ()\n",
    "print ('X_test:',X_test.shape)\n",
    "print ('Y_test:',Y_test.shape)"
   ]
  },
  {
   "cell_type": "markdown",
   "id": "fdb0fac1",
   "metadata": {},
   "source": [
    "## Define a model\n",
    "Credit for this code: https://machinelearningmastery.com/how-to-develop-lstm-models-for-time-series-forecasting/"
   ]
  },
  {
   "cell_type": "code",
   "execution_count": 17,
   "id": "a8120938",
   "metadata": {},
   "outputs": [],
   "source": [
    "model = Sequential()\n",
    "model.add(Conv1D(filters=256, kernel_size=1, activation='relu', input_shape=(1, 13)))\n",
    "model.add(MaxPooling1D(pool_size=1))\n",
    "model.add(Conv1D(filters=256, kernel_size=1, activation='relu'))\n",
    "model.add(MaxPooling1D(pool_size=1))\n",
    "model.add(Conv1D(filters=256, kernel_size=1, activation='relu'))\n",
    "model.add(MaxPooling1D(pool_size=1))\n",
    "model.add(Flatten())\n",
    "model.add(Dense(1, activation = 'sigmoid'))\n",
    "model.compile(loss='mse', optimizer='adam')"
   ]
  },
  {
   "cell_type": "markdown",
   "id": "9989b1c3",
   "metadata": {},
   "source": [
    "## Print summary"
   ]
  },
  {
   "cell_type": "code",
   "execution_count": 18,
   "id": "3bbad727",
   "metadata": {},
   "outputs": [
    {
     "name": "stdout",
     "output_type": "stream",
     "text": [
      "Model: \"sequential\"\n",
      "_________________________________________________________________\n",
      " Layer (type)                Output Shape              Param #   \n",
      "=================================================================\n",
      " conv1d (Conv1D)             (None, 1, 256)            3584      \n",
      "                                                                 \n",
      " max_pooling1d (MaxPooling1D  (None, 1, 256)           0         \n",
      " )                                                               \n",
      "                                                                 \n",
      " conv1d_1 (Conv1D)           (None, 1, 256)            65792     \n",
      "                                                                 \n",
      " max_pooling1d_1 (MaxPooling  (None, 1, 256)           0         \n",
      " 1D)                                                             \n",
      "                                                                 \n",
      " conv1d_2 (Conv1D)           (None, 1, 256)            65792     \n",
      "                                                                 \n",
      " max_pooling1d_2 (MaxPooling  (None, 1, 256)           0         \n",
      " 1D)                                                             \n",
      "                                                                 \n",
      " flatten (Flatten)           (None, 256)               0         \n",
      "                                                                 \n",
      " dense (Dense)               (None, 1)                 257       \n",
      "                                                                 \n",
      "=================================================================\n",
      "Total params: 135,425\n",
      "Trainable params: 135,425\n",
      "Non-trainable params: 0\n",
      "_________________________________________________________________\n"
     ]
    }
   ],
   "source": [
    "model.summary()"
   ]
  },
  {
   "cell_type": "markdown",
   "id": "5028cba3",
   "metadata": {},
   "source": [
    "## Training"
   ]
  },
  {
   "cell_type": "code",
   "execution_count": 19,
   "id": "1873ce48",
   "metadata": {},
   "outputs": [
    {
     "name": "stdout",
     "output_type": "stream",
     "text": [
      "Epoch 1/50\n",
      "3506/3506 [==============================] - 104s 29ms/step - loss: 0.0033 - val_loss: 0.0025\n",
      "Epoch 2/50\n",
      "3506/3506 [==============================] - 104s 30ms/step - loss: 0.0026 - val_loss: 0.0024\n",
      "Epoch 3/50\n",
      "3506/3506 [==============================] - 103s 29ms/step - loss: 0.0025 - val_loss: 0.0024\n",
      "Epoch 4/50\n",
      "3506/3506 [==============================] - 107s 31ms/step - loss: 0.0025 - val_loss: 0.0024\n",
      "Epoch 5/50\n",
      "3506/3506 [==============================] - 106s 30ms/step - loss: 0.0025 - val_loss: 0.0024\n",
      "Epoch 6/50\n",
      "3506/3506 [==============================] - 102s 29ms/step - loss: 0.0025 - val_loss: 0.0024\n",
      "Epoch 7/50\n",
      "3506/3506 [==============================] - 106s 30ms/step - loss: 0.0025 - val_loss: 0.0024\n",
      "Epoch 8/50\n",
      "3506/3506 [==============================] - 102s 29ms/step - loss: 0.0024 - val_loss: 0.0024\n",
      "Epoch 9/50\n",
      "3506/3506 [==============================] - 103s 29ms/step - loss: 0.0024 - val_loss: 0.0025\n",
      "Epoch 10/50\n",
      "3506/3506 [==============================] - 111s 32ms/step - loss: 0.0024 - val_loss: 0.0025\n",
      "Epoch 11/50\n",
      "3506/3506 [==============================] - 102s 29ms/step - loss: 0.0024 - val_loss: 0.0024\n",
      "Epoch 12/50\n",
      "3506/3506 [==============================] - 102s 29ms/step - loss: 0.0024 - val_loss: 0.0024\n",
      "Epoch 13/50\n",
      "3506/3506 [==============================] - 101s 29ms/step - loss: 0.0024 - val_loss: 0.0024\n",
      "Epoch 14/50\n",
      "3506/3506 [==============================] - 100s 29ms/step - loss: 0.0024 - val_loss: 0.0024\n",
      "Epoch 15/50\n",
      "3506/3506 [==============================] - 106s 30ms/step - loss: 0.0023 - val_loss: 0.0024\n",
      "Epoch 16/50\n",
      "3506/3506 [==============================] - 106s 30ms/step - loss: 0.0023 - val_loss: 0.0023\n",
      "Epoch 17/50\n",
      "3506/3506 [==============================] - 103s 29ms/step - loss: 0.0023 - val_loss: 0.0023\n",
      "Epoch 18/50\n",
      "3506/3506 [==============================] - 102s 29ms/step - loss: 0.0023 - val_loss: 0.0023\n",
      "Epoch 19/50\n",
      "3506/3506 [==============================] - 101s 29ms/step - loss: 0.0023 - val_loss: 0.0023\n",
      "Epoch 20/50\n",
      "3506/3506 [==============================] - 101s 29ms/step - loss: 0.0023 - val_loss: 0.0024\n",
      "Epoch 21/50\n",
      "3506/3506 [==============================] - 104s 30ms/step - loss: 0.0023 - val_loss: 0.0023\n",
      "Epoch 22/50\n",
      "3506/3506 [==============================] - 19s 6ms/step - loss: 0.0023 - val_loss: 0.0023\n",
      "Epoch 23/50\n",
      "3506/3506 [==============================] - 19s 5ms/step - loss: 0.0023 - val_loss: 0.0023\n",
      "Epoch 24/50\n",
      "3506/3506 [==============================] - 19s 5ms/step - loss: 0.0023 - val_loss: 0.0023\n",
      "Epoch 25/50\n",
      "3506/3506 [==============================] - 19s 6ms/step - loss: 0.0023 - val_loss: 0.0024\n",
      "Epoch 26/50\n",
      "3506/3506 [==============================] - 19s 5ms/step - loss: 0.0023 - val_loss: 0.0023\n",
      "Epoch 27/50\n",
      "3506/3506 [==============================] - 19s 5ms/step - loss: 0.0023 - val_loss: 0.0024\n",
      "Epoch 28/50\n",
      "3506/3506 [==============================] - 19s 6ms/step - loss: 0.0023 - val_loss: 0.0023\n",
      "Epoch 29/50\n",
      "3506/3506 [==============================] - 19s 5ms/step - loss: 0.0023 - val_loss: 0.0024\n",
      "Epoch 30/50\n",
      "3506/3506 [==============================] - 22s 6ms/step - loss: 0.0022 - val_loss: 0.0025\n",
      "Epoch 31/50\n",
      "3506/3506 [==============================] - 22s 6ms/step - loss: 0.0022 - val_loss: 0.0024\n",
      "Epoch 32/50\n",
      "3506/3506 [==============================] - 19s 6ms/step - loss: 0.0022 - val_loss: 0.0024\n",
      "Epoch 33/50\n",
      "3506/3506 [==============================] - 19s 5ms/step - loss: 0.0022 - val_loss: 0.0024\n",
      "Epoch 34/50\n",
      "3506/3506 [==============================] - 19s 6ms/step - loss: 0.0022 - val_loss: 0.0024\n",
      "Epoch 35/50\n",
      "3506/3506 [==============================] - 19s 5ms/step - loss: 0.0022 - val_loss: 0.0024\n",
      "Epoch 36/50\n",
      "3506/3506 [==============================] - 19s 5ms/step - loss: 0.0022 - val_loss: 0.0024\n",
      "Epoch 37/50\n",
      "3506/3506 [==============================] - 21s 6ms/step - loss: 0.0022 - val_loss: 0.0024\n",
      "Epoch 38/50\n",
      "3506/3506 [==============================] - 20s 6ms/step - loss: 0.0022 - val_loss: 0.0024\n",
      "Epoch 39/50\n",
      "3506/3506 [==============================] - 19s 5ms/step - loss: 0.0022 - val_loss: 0.0024\n",
      "Epoch 40/50\n",
      "3506/3506 [==============================] - 20s 6ms/step - loss: 0.0022 - val_loss: 0.0024\n",
      "Epoch 41/50\n",
      "3506/3506 [==============================] - 19s 6ms/step - loss: 0.0022 - val_loss: 0.0024\n",
      "Epoch 42/50\n",
      "3506/3506 [==============================] - 20s 6ms/step - loss: 0.0022 - val_loss: 0.0024\n",
      "Epoch 43/50\n",
      "3506/3506 [==============================] - 20s 6ms/step - loss: 0.0021 - val_loss: 0.0024\n",
      "Epoch 44/50\n",
      "3506/3506 [==============================] - 20s 6ms/step - loss: 0.0021 - val_loss: 0.0024\n",
      "Epoch 45/50\n",
      "3506/3506 [==============================] - 19s 6ms/step - loss: 0.0021 - val_loss: 0.0025\n",
      "Epoch 46/50\n",
      "3506/3506 [==============================] - 20s 6ms/step - loss: 0.0021 - val_loss: 0.0024\n",
      "Epoch 47/50\n",
      "3506/3506 [==============================] - 20s 6ms/step - loss: 0.0021 - val_loss: 0.0025\n",
      "Epoch 48/50\n",
      "3506/3506 [==============================] - 20s 6ms/step - loss: 0.0021 - val_loss: 0.0024\n",
      "Epoch 49/50\n",
      "3506/3506 [==============================] - 20s 6ms/step - loss: 0.0021 - val_loss: 0.0024\n",
      "Epoch 50/50\n",
      "3506/3506 [==============================] - 20s 6ms/step - loss: 0.0021 - val_loss: 0.0024\n"
     ]
    }
   ],
   "source": [
    "history = model.fit(X_train, Y_train, validation_data=(X_val, Y_val), epochs=50, batch_size=16, verbose=1)"
   ]
  },
  {
   "cell_type": "markdown",
   "id": "a2cc8acd",
   "metadata": {},
   "source": [
    "## Predict"
   ]
  },
  {
   "cell_type": "code",
   "execution_count": 20,
   "id": "bf2a8a86",
   "metadata": {},
   "outputs": [
    {
     "name": "stdout",
     "output_type": "stream",
     "text": [
      "548/548 [==============================] - 2s 3ms/step\n"
     ]
    }
   ],
   "source": [
    "prediction = model.predict(X_test)"
   ]
  },
  {
   "cell_type": "code",
   "execution_count": 21,
   "id": "e1b92129",
   "metadata": {},
   "outputs": [],
   "source": [
    "def unscale(scaled_value):\n",
    "    # if target variable is the first column, then, data_max_[0]\n",
    "    unscaled_value = scaled_value * (scaler.data_max_[0] - scaler.data_min_[0]) + (scaler.data_min_[0])\n",
    "    return unscaled_value"
   ]
  },
  {
   "cell_type": "code",
   "execution_count": 22,
   "id": "85aa5e5f",
   "metadata": {},
   "outputs": [],
   "source": [
    "predictions = unscale(prediction)"
   ]
  },
  {
   "cell_type": "code",
   "execution_count": 23,
   "id": "608ad0e1",
   "metadata": {},
   "outputs": [],
   "source": [
    "Y_tests = unscale(Y_test)"
   ]
  },
  {
   "cell_type": "markdown",
   "id": "f01682cf",
   "metadata": {},
   "source": [
    "# Plot the performance"
   ]
  },
  {
   "cell_type": "code",
   "execution_count": 24,
   "id": "aca33670",
   "metadata": {},
   "outputs": [
    {
     "data": {
      "text/plain": [
       "16.85031"
      ]
     },
     "execution_count": 24,
     "metadata": {},
     "output_type": "execute_result"
    }
   ],
   "source": [
    "mean_absolute_error(Y_tests, predictions)"
   ]
  },
  {
   "cell_type": "code",
   "execution_count": 25,
   "id": "acaae5cc",
   "metadata": {},
   "outputs": [
    {
     "name": "stdout",
     "output_type": "stream",
     "text": [
      "39.23917390255161\n"
     ]
    }
   ],
   "source": [
    "rmse = sqrt(mean_squared_error(Y_tests, predictions))\n",
    "print(rmse)"
   ]
  },
  {
   "cell_type": "code",
   "execution_count": 26,
   "id": "0470e3bf",
   "metadata": {},
   "outputs": [
    {
     "data": {
      "text/plain": [
       "0.591739765150322"
      ]
     },
     "execution_count": 26,
     "metadata": {},
     "output_type": "execute_result"
    }
   ],
   "source": [
    "r2_score(Y_tests, predictions)"
   ]
  },
  {
   "cell_type": "code",
   "execution_count": 27,
   "id": "c84d50d5",
   "metadata": {},
   "outputs": [
    {
     "name": "stdout",
     "output_type": "stream",
     "text": [
      "accuracy testing = 15\n"
     ]
    }
   ],
   "source": [
    "print('accuracy testing = {}'.format(np.sum(predictions==Y_tests)) )"
   ]
  },
  {
   "cell_type": "markdown",
   "id": "da65206b",
   "metadata": {},
   "source": [
    "## Compare prediction and testing data"
   ]
  },
  {
   "cell_type": "code",
   "execution_count": 28,
   "id": "f721486e",
   "metadata": {},
   "outputs": [
    {
     "data": {
      "image/png": "[encoded data removed]",
      "text/plain": [
       "<Figure size 432x288 with 1 Axes>"
      ]
     },
     "metadata": {
      "needs_background": "light"
     },
     "output_type": "display_data"
    }
   ],
   "source": [
    "rcParams['font.weight'] = 'bold'\n",
    "plt.plot(Y_tests[0:240], color='blue', label = 'Observed')\n",
    "plt.plot(predictions[0:240], color='red', label = 'Predicted')\n",
    "plt.ylabel('PM2.5', fontname=\"Times New Roman\", size=20,fontweight=\"bold\")\n",
    "plt.xlabel('Time(Hrs)', fontname=\"Times New Roman\", size=20,fontweight=\"bold\")\n",
    "plt.title('Middelburg CNN', fontname=\"Times New Roman\", size=28,fontweight=\"bold\")\n",
    "legend_properties = {'weight':'bold'}\n",
    "plt.legend(prop=legend_properties)\n",
    "plt.show()"
   ]
  },
  {
   "cell_type": "markdown",
   "id": "a15abaf1",
   "metadata": {},
   "source": [
    "# Test"
   ]
  },
  {
   "cell_type": "code",
   "execution_count": 29,
   "id": "eeb9fcec",
   "metadata": {},
   "outputs": [
    {
     "data": {
      "image/png": "[encoded data removed]",
      "text/plain": [
       "<Figure size 576x432 with 1 Axes>"
      ]
     },
     "metadata": {
      "needs_background": "light"
     },
     "output_type": "display_data"
    }
   ],
   "source": [
    "## Calculate errors\n",
    "errors = predictions.flatten() - Y_tests\n",
    "\n",
    "# Calculate quantiles based on actual values\n",
    "quantiles, bins = pd.qcut(Y_tests, q=10, duplicates='drop', retbins=True)\n",
    "\n",
    "# Calculate average error for each quantile\n",
    "quantile_errors = []\n",
    "for i in range(len(bins) - 1):\n",
    "    group_indices = np.where((Y_tests >= bins[i]) & (Y_tests < bins[i+1]))[0]\n",
    "    quantile_errors.append(errors[group_indices].mean())\n",
    "\n",
    "# Plot quantiles vs. average errors\n",
    "rcParams['font.weight'] = 'bold'\n",
    "plt.figure(figsize=(8, 6))\n",
    "plt.plot(range(1, len(quantiles.categories) + 1), quantile_errors, marker='o')\n",
    "plt.xlabel('Quantile', fontname=\"Times New Roman\", size=20,fontweight=\"bold\")\n",
    "plt.ylabel('Average Error', fontname=\"Times New Roman\", size=20,fontweight=\"bold\")\n",
    "plt.title('Quantile Analysis', fontname=\"Times New Roman\", size=28,fontweight=\"bold\")\n",
    "plt.xticks(range(1, len(quantiles.categories) + 1), [str(q) for q in quantiles.categories], rotation=45)\n",
    "plt.grid(True)\n",
    "plt.show()\n"
   ]
  },
  {
   "cell_type": "code",
   "execution_count": 30,
   "id": "aac5687b",
   "metadata": {},
   "outputs": [
    {
     "data": {
      "image/png": "[encoded data removed]",
      "text/plain": [
       "<Figure size 576x432 with 1 Axes>"
      ]
     },
     "metadata": {
      "needs_background": "light"
     },
     "output_type": "display_data"
    }
   ],
   "source": [
    "errors = predictions.flatten() - Y_tests\n",
    "\n",
    "# Calculate quantiles based on actual values\n",
    "quantiles, bins = pd.qcut(Y_tests, q=10, duplicates='drop', retbins=True)\n",
    "\n",
    "# Calculate average error for each quantile\n",
    "quantile_errors = []\n",
    "for i in range(len(bins) - 1):\n",
    "    group_indices = np.where((Y_tests >= bins[i]) & (Y_tests < bins[i+1]))[0]\n",
    "    quantile_errors.append(errors[group_indices].mean())\n",
    "\n",
    "# Round the bin edges for better readability\n",
    "rounded_bins = np.round(bins, decimals=3)\n",
    "\n",
    "# Plot quantiles vs. average errors\n",
    "rcParams['font.weight'] = 'bold'\n",
    "plt.figure(figsize=(8, 6))\n",
    "plt.plot(range(1, len(quantiles.categories) + 1), quantile_errors, marker='o')\n",
    "plt.xlabel('Quantile', fontname=\"Times New Roman\", size=20, fontweight=\"bold\")\n",
    "plt.ylabel('Average Error', fontname=\"Times New Roman\", size=20, fontweight=\"bold\")\n",
    "plt.title('Quantile Analysis', fontname=\"Times New Roman\", size=28, fontweight=\"bold\")\n",
    "plt.xticks(range(1, len(quantiles.categories) + 1), [f'{rounded_bins[i]:.3f} - {rounded_bins[i+1]:.3f}' for i in range(len(rounded_bins) - 1)], rotation=45)\n",
    "plt.grid(True)\n",
    "plt.show()"
   ]
  },
  {
   "cell_type": "markdown",
   "id": "a3d4a64b",
   "metadata": {},
   "source": [
    "# Save Model"
   ]
  },
  {
   "cell_type": "code",
   "execution_count": null,
   "id": "a4e6db00",
   "metadata": {},
   "outputs": [],
   "source": [
    "# eMalahleni PM2.5\n",
    "#model.save('cnn_model.h5')\n",
    "#model.save('cnn_modelPM1.h5')\n",
    "#model.save('cnn_modelSO2.h5')\n",
    "#model.save('cnn_modelNO2.h5')"
   ]
  },
  {
   "cell_type": "code",
   "execution_count": null,
   "id": "bc4c3251",
   "metadata": {},
   "outputs": [],
   "source": [
    "# Ermelo PM2.5\n",
    "#model.save('cnn_modelEPM2.h5')\n",
    "#model.save('cnn_modelEPM1.h5')\n",
    "#model.save('cnn_modelESO2.h5')\n",
    "#model.save('cnn_modelENO2.h5')"
   ]
  },
  {
   "cell_type": "code",
   "execution_count": null,
   "id": "0e86d09a",
   "metadata": {},
   "outputs": [],
   "source": [
    "# Hendrina PM2.5\n",
    "#model.save('cnn_modelHPM2.h5')\n",
    "#model.save('cnn_modelHPM1.h5')\n",
    "model.save('cnn_modelHSO2.h5')\n",
    "#model.save('cnn_modelHNO2.h5')"
   ]
  },
  {
   "cell_type": "code",
   "execution_count": null,
   "id": "4016f2bf",
   "metadata": {},
   "outputs": [],
   "source": [
    "# Middelburg PM2.5\n",
    "#model.save('cnn_modelMPM2.h5')\n",
    "#model.save('cnn_modelMPM1.h5')\n",
    "#model.save('cnn_modelMSO2.h5')\n",
    "model.save('cnn_modelMNO2.h5')"
   ]
  },
  {
   "cell_type": "code",
   "execution_count": null,
   "id": "39adc17f",
   "metadata": {},
   "outputs": [],
   "source": [
    "# Secunda PM2.5\n",
    "#model.save('cnn_modelSPM2.h5')\n",
    "#model.save('cnn_modelSPM1.h5')\n",
    "model.save('cnn_modelSSO2.h5')\n",
    "model.save('cnn_modelSNO2.h5')"
   ]
  },
  {
   "cell_type": "markdown",
   "id": "b3a8a472",
   "metadata": {},
   "source": [
    "# Forecast"
   ]
  },
  {
   "cell_type": "code",
   "execution_count": null,
   "id": "e7a5caf3",
   "metadata": {},
   "outputs": [],
   "source": [
    "mean_absolute_error(Y_test[1:6], prediction[1:6])"
   ]
  },
  {
   "cell_type": "code",
   "execution_count": null,
   "id": "8cacb9e6",
   "metadata": {},
   "outputs": [],
   "source": [
    "mean_absolute_error(Y_test[1:12], prediction[1:12])"
   ]
  },
  {
   "cell_type": "code",
   "execution_count": null,
   "id": "5282d6c3",
   "metadata": {},
   "outputs": [],
   "source": [
    "mean_absolute_error(Y_test[1:18], prediction[1:18])"
   ]
  },
  {
   "cell_type": "code",
   "execution_count": null,
   "id": "3bc05dd4",
   "metadata": {},
   "outputs": [],
   "source": [
    "mean_absolute_error(Y_test[1:24], prediction[1:24])"
   ]
  },
  {
   "cell_type": "code",
   "execution_count": null,
   "id": "ee7f8345",
   "metadata": {},
   "outputs": [],
   "source": [
    "mean_absolute_error(Y_test[1:36], prediction[1:36])"
   ]
  },
  {
   "cell_type": "code",
   "execution_count": null,
   "id": "603c6375",
   "metadata": {},
   "outputs": [],
   "source": [
    "mean_absolute_error(Y_test[1:48], prediction[1:48])"
   ]
  },
  {
   "cell_type": "code",
   "execution_count": null,
   "id": "cdcccd71",
   "metadata": {},
   "outputs": [],
   "source": []
  },
  {
   "cell_type": "code",
   "execution_count": null,
   "id": "4dacb5fc",
   "metadata": {},
   "outputs": [],
   "source": [
    "rmse = sqrt(mean_squared_error(Y_test[1:6], prediction[1:6]))\n",
    "print(rmse)"
   ]
  },
  {
   "cell_type": "code",
   "execution_count": null,
   "id": "897cc14d",
   "metadata": {},
   "outputs": [],
   "source": [
    "rmse = sqrt(mean_squared_error(Y_test[1:12], prediction[1:12]))\n",
    "print(rmse)"
   ]
  },
  {
   "cell_type": "code",
   "execution_count": null,
   "id": "2d671791",
   "metadata": {},
   "outputs": [],
   "source": [
    "rmse = sqrt(mean_squared_error(Y_test[1:18], prediction[1:18]))\n",
    "print(rmse)"
   ]
  },
  {
   "cell_type": "code",
   "execution_count": null,
   "id": "914b0291",
   "metadata": {},
   "outputs": [],
   "source": [
    "rmse = sqrt(mean_squared_error(Y_test[1:24], prediction[1:24]))\n",
    "print(rmse)"
   ]
  },
  {
   "cell_type": "code",
   "execution_count": null,
   "id": "ccd67b36",
   "metadata": {},
   "outputs": [],
   "source": [
    "rmse = sqrt(mean_squared_error(Y_test[1:36], prediction[1:36]))\n",
    "print(rmse)"
   ]
  },
  {
   "cell_type": "code",
   "execution_count": null,
   "id": "612e458b",
   "metadata": {},
   "outputs": [],
   "source": [
    "rmse = sqrt(mean_squared_error(Y_test[1:48], prediction[1:48]))\n",
    "print(rmse)"
   ]
  },
  {
   "cell_type": "code",
   "execution_count": null,
   "id": "2583f87a",
   "metadata": {},
   "outputs": [],
   "source": []
  },
  {
   "cell_type": "code",
   "execution_count": null,
   "id": "3fcc00cf",
   "metadata": {},
   "outputs": [],
   "source": []
  },
  {
   "cell_type": "code",
   "execution_count": null,
   "id": "55b41cfa",
   "metadata": {},
   "outputs": [],
   "source": []
  }
 ],
 "metadata": {
  "kernelspec": {
   "display_name": "Python 3 (ipykernel)",
   "language": "python",
   "name": "python3"
  },
  "language_info": {
   "codemirror_mode": {
    "name": "ipython",
    "version": 3
   },
   "file_extension": ".py",
   "mimetype": "text/x-python",
   "name": "python",
   "nbconvert_exporter": "python",
   "pygments_lexer": "ipython3",
   "version": "3.9.7"
  }
 },
 "nbformat": 4,
 "nbformat_minor": 5
}
