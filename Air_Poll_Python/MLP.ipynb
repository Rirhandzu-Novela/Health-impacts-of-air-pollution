{
 "cells": [
  {
   "cell_type": "markdown",
   "id": "196c63f2",
   "metadata": {},
   "source": [
    "# Import"
   ]
  },
  {
   "cell_type": "code",
   "execution_count": 1,
   "id": "8468f4ae",
   "metadata": {},
   "outputs": [
    {
     "name": "stdout",
     "output_type": "stream",
     "text": [
      "2.9.1\n"
     ]
    }
   ],
   "source": [
    "import numpy as np\n",
    "import pandas as pd\n",
    "from math import sqrt\n",
    "import matplotlib.pyplot as plt\n",
    "from keras.models import Sequential\n",
    "from keras.layers import Dense\n",
    "from sklearn.preprocessing import MinMaxScaler\n",
    "from sklearn.model_selection import train_test_split\n",
    "from sklearn.metrics import r2_score\n",
    "from sklearn.metrics import mean_squared_error\n",
    "from sklearn.metrics import mean_absolute_error\n",
    "from sklearn.metrics import mean_absolute_percentage_error\n",
    "\n",
    "%matplotlib inline\n",
    "#%tensorflow_version 1.x\n",
    "import tensorflow as tf\n",
    "print(tf.__version__)\n"
   ]
  },
  {
   "cell_type": "markdown",
   "id": "0e491d36",
   "metadata": {},
   "source": [
    "## load dataset"
   ]
  },
  {
   "cell_type": "code",
   "execution_count": 2,
   "id": "51f8628e",
   "metadata": {},
   "outputs": [],
   "source": [
    "dataset = pd.read_csv('SecundaIMO3.csv', sep =';', header=0, index_col=0)\n",
    "values = dataset.values"
   ]
  },
  {
   "cell_type": "code",
   "execution_count": 3,
   "id": "ec628f50",
   "metadata": {},
   "outputs": [
    {
     "data": {
      "text/html": [
       "<div>\n",
       "<style scoped>\n",
       "    .dataframe tbody tr th:only-of-type {\n",
       "        vertical-align: middle;\n",
       "    }\n",
       "\n",
       "    .dataframe tbody tr th {\n",
       "        vertical-align: top;\n",
       "    }\n",
       "\n",
       "    .dataframe thead th {\n",
       "        text-align: right;\n",
       "    }\n",
       "</style>\n",
       "<table border=\"1\" class=\"dataframe\">\n",
       "  <thead>\n",
       "    <tr style=\"text-align: right;\">\n",
       "      <th></th>\n",
       "      <th>O3</th>\n",
       "      <th>PM2.5</th>\n",
       "      <th>PM10</th>\n",
       "      <th>SO2</th>\n",
       "      <th>NO2</th>\n",
       "      <th>NO</th>\n",
       "      <th>NOx</th>\n",
       "      <th>CO</th>\n",
       "      <th>Amb Wspeed</th>\n",
       "      <th>Amb WDirection</th>\n",
       "      <th>Temperature</th>\n",
       "      <th>Amb RelHum</th>\n",
       "      <th>Amb Pressure</th>\n",
       "      <th>Rain</th>\n",
       "    </tr>\n",
       "  </thead>\n",
       "  <tbody>\n",
       "    <tr>\n",
       "      <th>count</th>\n",
       "      <td>87647.000000</td>\n",
       "      <td>87647.000000</td>\n",
       "      <td>87647.000000</td>\n",
       "      <td>87647.000000</td>\n",
       "      <td>87647.000000</td>\n",
       "      <td>87647.000000</td>\n",
       "      <td>87647.000000</td>\n",
       "      <td>87647.000000</td>\n",
       "      <td>87647.000000</td>\n",
       "      <td>87647.000000</td>\n",
       "      <td>87647.000000</td>\n",
       "      <td>87647.000000</td>\n",
       "      <td>87647.000000</td>\n",
       "      <td>87647.000000</td>\n",
       "    </tr>\n",
       "    <tr>\n",
       "      <th>mean</th>\n",
       "      <td>29.554458</td>\n",
       "      <td>29.171659</td>\n",
       "      <td>61.765095</td>\n",
       "      <td>7.242098</td>\n",
       "      <td>17.605830</td>\n",
       "      <td>9.686645</td>\n",
       "      <td>26.121403</td>\n",
       "      <td>16.845333</td>\n",
       "      <td>1.881845</td>\n",
       "      <td>174.143041</td>\n",
       "      <td>15.839714</td>\n",
       "      <td>63.173814</td>\n",
       "      <td>848.373722</td>\n",
       "      <td>0.145777</td>\n",
       "    </tr>\n",
       "    <tr>\n",
       "      <th>std</th>\n",
       "      <td>24.132666</td>\n",
       "      <td>45.125576</td>\n",
       "      <td>98.996429</td>\n",
       "      <td>9.881698</td>\n",
       "      <td>19.608876</td>\n",
       "      <td>16.521904</td>\n",
       "      <td>29.015767</td>\n",
       "      <td>160.759570</td>\n",
       "      <td>1.387563</td>\n",
       "      <td>95.583791</td>\n",
       "      <td>7.438468</td>\n",
       "      <td>27.518155</td>\n",
       "      <td>11.924338</td>\n",
       "      <td>2.267876</td>\n",
       "    </tr>\n",
       "    <tr>\n",
       "      <th>min</th>\n",
       "      <td>0.000000</td>\n",
       "      <td>0.000000</td>\n",
       "      <td>0.000000</td>\n",
       "      <td>0.000000</td>\n",
       "      <td>0.000000</td>\n",
       "      <td>0.000000</td>\n",
       "      <td>0.000000</td>\n",
       "      <td>0.000000</td>\n",
       "      <td>0.000000</td>\n",
       "      <td>0.000000</td>\n",
       "      <td>-8.210000</td>\n",
       "      <td>0.000000</td>\n",
       "      <td>0.000000</td>\n",
       "      <td>0.000000</td>\n",
       "    </tr>\n",
       "    <tr>\n",
       "      <th>25%</th>\n",
       "      <td>13.522600</td>\n",
       "      <td>8.525200</td>\n",
       "      <td>17.087900</td>\n",
       "      <td>2.005700</td>\n",
       "      <td>7.492000</td>\n",
       "      <td>2.433000</td>\n",
       "      <td>10.900000</td>\n",
       "      <td>0.089000</td>\n",
       "      <td>0.830000</td>\n",
       "      <td>79.020000</td>\n",
       "      <td>12.200000</td>\n",
       "      <td>42.060000</td>\n",
       "      <td>845.580000</td>\n",
       "      <td>0.000000</td>\n",
       "    </tr>\n",
       "    <tr>\n",
       "      <th>50%</th>\n",
       "      <td>27.750124</td>\n",
       "      <td>17.950000</td>\n",
       "      <td>37.304000</td>\n",
       "      <td>4.890000</td>\n",
       "      <td>13.717000</td>\n",
       "      <td>4.935000</td>\n",
       "      <td>19.317000</td>\n",
       "      <td>0.233000</td>\n",
       "      <td>1.800000</td>\n",
       "      <td>175.316333</td>\n",
       "      <td>16.216102</td>\n",
       "      <td>63.986725</td>\n",
       "      <td>848.471099</td>\n",
       "      <td>0.000000</td>\n",
       "    </tr>\n",
       "    <tr>\n",
       "      <th>75%</th>\n",
       "      <td>37.361400</td>\n",
       "      <td>31.456385</td>\n",
       "      <td>66.420114</td>\n",
       "      <td>7.737745</td>\n",
       "      <td>18.565700</td>\n",
       "      <td>9.878933</td>\n",
       "      <td>27.806900</td>\n",
       "      <td>1.000000</td>\n",
       "      <td>2.440000</td>\n",
       "      <td>256.780000</td>\n",
       "      <td>20.220000</td>\n",
       "      <td>88.870000</td>\n",
       "      <td>851.240000</td>\n",
       "      <td>0.000000</td>\n",
       "    </tr>\n",
       "    <tr>\n",
       "      <th>max</th>\n",
       "      <td>274.500000</td>\n",
       "      <td>1024.503000</td>\n",
       "      <td>4412.100000</td>\n",
       "      <td>306.293000</td>\n",
       "      <td>1009.120000</td>\n",
       "      <td>450.608000</td>\n",
       "      <td>490.957000</td>\n",
       "      <td>5101.800000</td>\n",
       "      <td>11.950000</td>\n",
       "      <td>359.990000</td>\n",
       "      <td>40.360000</td>\n",
       "      <td>103.780000</td>\n",
       "      <td>879.000000</td>\n",
       "      <td>246.000000</td>\n",
       "    </tr>\n",
       "  </tbody>\n",
       "</table>\n",
       "</div>"
      ],
      "text/plain": [
       "                 O3         PM2.5          PM10           SO2           NO2  \\\n",
       "count  87647.000000  87647.000000  87647.000000  87647.000000  87647.000000   \n",
       "mean      29.554458     29.171659     61.765095      7.242098     17.605830   \n",
       "std       24.132666     45.125576     98.996429      9.881698     19.608876   \n",
       "min        0.000000      0.000000      0.000000      0.000000      0.000000   \n",
       "25%       13.522600      8.525200     17.087900      2.005700      7.492000   \n",
       "50%       27.750124     17.950000     37.304000      4.890000     13.717000   \n",
       "75%       37.361400     31.456385     66.420114      7.737745     18.565700   \n",
       "max      274.500000   1024.503000   4412.100000    306.293000   1009.120000   \n",
       "\n",
       "                 NO           NOx            CO    Amb Wspeed  Amb WDirection  \\\n",
       "count  87647.000000  87647.000000  87647.000000  87647.000000    87647.000000   \n",
       "mean       9.686645     26.121403     16.845333      1.881845      174.143041   \n",
       "std       16.521904     29.015767    160.759570      1.387563       95.583791   \n",
       "min        0.000000      0.000000      0.000000      0.000000        0.000000   \n",
       "25%        2.433000     10.900000      0.089000      0.830000       79.020000   \n",
       "50%        4.935000     19.317000      0.233000      1.800000      175.316333   \n",
       "75%        9.878933     27.806900      1.000000      2.440000      256.780000   \n",
       "max      450.608000    490.957000   5101.800000     11.950000      359.990000   \n",
       "\n",
       "        Temperature    Amb RelHum  Amb Pressure          Rain  \n",
       "count  87647.000000  87647.000000  87647.000000  87647.000000  \n",
       "mean      15.839714     63.173814    848.373722      0.145777  \n",
       "std        7.438468     27.518155     11.924338      2.267876  \n",
       "min       -8.210000      0.000000      0.000000      0.000000  \n",
       "25%       12.200000     42.060000    845.580000      0.000000  \n",
       "50%       16.216102     63.986725    848.471099      0.000000  \n",
       "75%       20.220000     88.870000    851.240000      0.000000  \n",
       "max       40.360000    103.780000    879.000000    246.000000  "
      ]
     },
     "execution_count": 3,
     "metadata": {},
     "output_type": "execute_result"
    }
   ],
   "source": [
    "dataset.describe()"
   ]
  },
  {
   "cell_type": "markdown",
   "id": "4ba64023",
   "metadata": {},
   "source": [
    "## Plot pm2.5"
   ]
  },
  {
   "cell_type": "code",
   "execution_count": 4,
   "id": "a5279d95",
   "metadata": {
    "scrolled": true
   },
   "outputs": [
    {
     "data": {
      "image/png": "[encoded data removed]",
      "text/plain": [
       "<Figure size 432x288 with 1 Axes>"
      ]
     },
     "metadata": {
      "needs_background": "light"
     },
     "output_type": "display_data"
    }
   ],
   "source": [
    "plt.plot(values[:,0])\n",
    "plt.ylabel(dataset.columns[0])\n",
    "plt.show()"
   ]
  },
  {
   "cell_type": "markdown",
   "id": "9c24073a",
   "metadata": {},
   "source": [
    "## Data preparation\n",
    "\n",
    "We need a way to prepare the data for whatever way we would like to formulate the problem.\n",
    "\n",
    "In this case we are formulating it such that we take in 1 time step input (14 variables) and output 1 time step output (1 variable). In other words we are trying to solve the following question: given the pollution and weather conditions of the previous hour, can we predict the PM2.5 level for the next hour.\n",
    "\n",
    "The single variable we are outputing is the PM2.5 level. Note we also use PM2.5 level in our input.\n",
    "\n",
    "Credit for this code: https://machinelearningmastery.com/convert-time-series-supervised-learning-problem-python/"
   ]
  },
  {
   "cell_type": "code",
   "execution_count": 5,
   "id": "dd5c2777",
   "metadata": {},
   "outputs": [],
   "source": [
    "def series_to_supervised(data, n_in=1, n_out=1, dropnan=True):\n",
    "    n_vars = 1 if type(data) is list else data.shape[1]\n",
    "    df = pd.DataFrame(data)\n",
    "    cols, names = list(), list()\n",
    "    # input sequence (t-n, ... t-1)\n",
    "    for i in range(n_in, 0, -1):\n",
    "        cols.append(df.shift(i))\n",
    "        names += [('var%d(t-%d)' % (j+1, i)) for j in range(n_vars)]\n",
    "    # forecast sequence (t, t+1, ... t+n)\n",
    "    for i in range(0, n_out):\n",
    "        cols.append(df.shift(-i))\n",
    "        if i == 0:\n",
    "            names += [('var%d(t)' % (j+1)) for j in range(n_vars)]\n",
    "        else:\n",
    "            names += [('var%d(t+%d)' % (j+1, i)) for j in range(n_vars)]\n",
    "    # put it all together\n",
    "    agg = pd.concat(cols, axis=1)\n",
    "    agg.columns = names\n",
    "    # drop rows with NaN values\n",
    "    if dropnan:\n",
    "        agg.dropna(inplace=True)\n",
    "    return agg"
   ]
  },
  {
   "cell_type": "markdown",
   "id": "8fbbb702",
   "metadata": {},
   "source": [
    "## Get column names"
   ]
  },
  {
   "cell_type": "code",
   "execution_count": 6,
   "id": "bbfc14ab",
   "metadata": {},
   "outputs": [
    {
     "data": {
      "text/plain": [
       "Index(['O3', 'PM2.5', 'PM10', 'SO2', 'NO2', 'NO', 'NOx', 'CO', 'Amb Wspeed',\n",
       "       'Amb WDirection', 'Temperature', 'Amb RelHum', 'Amb Pressure', 'Rain'],\n",
       "      dtype='object')"
      ]
     },
     "execution_count": 6,
     "metadata": {},
     "output_type": "execute_result"
    }
   ],
   "source": [
    "dataset.columns"
   ]
  },
  {
   "cell_type": "markdown",
   "id": "6b6cd649",
   "metadata": {},
   "source": [
    "##Actually perform the data preparation\n",
    "\n",
    "We scale the values between 0 and 1.\n",
    "\n",
    "The code which converts the data into the suitable way we want, in this case, will produce 14 output variables. In our case we only want to predict PM2.5, that is why we drop the other collumns from the dataframe.\n",
    "\n",
    "Credit for this code: https://machinelearningmastery.com/multivariate-time-series-forecasting-lstms-keras/"
   ]
  },
  {
   "cell_type": "code",
   "execution_count": 7,
   "id": "68094b1e",
   "metadata": {},
   "outputs": [],
   "source": [
    "# ensure all data is float\n",
    "values = values.astype('float32')\n",
    "\n",
    "# normalize features\n",
    "scaler = MinMaxScaler(feature_range=(0, 1))\n",
    "scaled = scaler.fit_transform(values)\n",
    "\n",
    "# frame as supervised learning\n",
    "reframed = series_to_supervised(scaled, 1, 1)\n",
    "\n",
    "# drop columns we don't want to predict\n",
    "# We drop these because we are only interested in predicting for a single variable (pollution).\n",
    "# If we don't drop, then we will be predicting for all the variables too!\n",
    "reframed.drop(reframed.columns[[15, 16, 17, 18, 19, 20, 21, 22, 23, 24, 25, 26, 27]], axis=1, inplace=True)\n",
    "values = reframed.values"
   ]
  },
  {
   "cell_type": "markdown",
   "id": "52d5bbb8",
   "metadata": {},
   "source": [
    "## View the data"
   ]
  },
  {
   "cell_type": "code",
   "execution_count": 8,
   "id": "44d39eda",
   "metadata": {
    "scrolled": true
   },
   "outputs": [
    {
     "data": {
      "text/html": [
       "<div>\n",
       "<style scoped>\n",
       "    .dataframe tbody tr th:only-of-type {\n",
       "        vertical-align: middle;\n",
       "    }\n",
       "\n",
       "    .dataframe tbody tr th {\n",
       "        vertical-align: top;\n",
       "    }\n",
       "\n",
       "    .dataframe thead th {\n",
       "        text-align: right;\n",
       "    }\n",
       "</style>\n",
       "<table border=\"1\" class=\"dataframe\">\n",
       "  <thead>\n",
       "    <tr style=\"text-align: right;\">\n",
       "      <th></th>\n",
       "      <th>var1(t-1)</th>\n",
       "      <th>var2(t-1)</th>\n",
       "      <th>var3(t-1)</th>\n",
       "      <th>var4(t-1)</th>\n",
       "      <th>var5(t-1)</th>\n",
       "      <th>var6(t-1)</th>\n",
       "      <th>var7(t-1)</th>\n",
       "      <th>var8(t-1)</th>\n",
       "      <th>var9(t-1)</th>\n",
       "      <th>var10(t-1)</th>\n",
       "      <th>var11(t-1)</th>\n",
       "      <th>var12(t-1)</th>\n",
       "      <th>var13(t-1)</th>\n",
       "      <th>var14(t-1)</th>\n",
       "      <th>var1(t)</th>\n",
       "    </tr>\n",
       "  </thead>\n",
       "  <tbody>\n",
       "    <tr>\n",
       "      <th>1</th>\n",
       "      <td>0.068915</td>\n",
       "      <td>0.009341</td>\n",
       "      <td>0.002724</td>\n",
       "      <td>0.011100</td>\n",
       "      <td>0.002253</td>\n",
       "      <td>0.002730</td>\n",
       "      <td>0.005174</td>\n",
       "      <td>0.000008</td>\n",
       "      <td>0.091213</td>\n",
       "      <td>0.590294</td>\n",
       "      <td>0.473337</td>\n",
       "      <td>0.963577</td>\n",
       "      <td>0.964391</td>\n",
       "      <td>0.0</td>\n",
       "      <td>0.083653</td>\n",
       "    </tr>\n",
       "    <tr>\n",
       "      <th>2</th>\n",
       "      <td>0.083653</td>\n",
       "      <td>0.004773</td>\n",
       "      <td>0.001281</td>\n",
       "      <td>0.011264</td>\n",
       "      <td>0.002089</td>\n",
       "      <td>0.002375</td>\n",
       "      <td>0.005479</td>\n",
       "      <td>0.000006</td>\n",
       "      <td>0.133054</td>\n",
       "      <td>0.354899</td>\n",
       "      <td>0.460366</td>\n",
       "      <td>0.963577</td>\n",
       "      <td>0.964130</td>\n",
       "      <td>0.0</td>\n",
       "      <td>0.110260</td>\n",
       "    </tr>\n",
       "    <tr>\n",
       "      <th>3</th>\n",
       "      <td>0.110260</td>\n",
       "      <td>0.010864</td>\n",
       "      <td>0.002736</td>\n",
       "      <td>0.010219</td>\n",
       "      <td>0.009678</td>\n",
       "      <td>0.003573</td>\n",
       "      <td>0.016519</td>\n",
       "      <td>0.000008</td>\n",
       "      <td>0.251883</td>\n",
       "      <td>0.194311</td>\n",
       "      <td>0.457896</td>\n",
       "      <td>0.914916</td>\n",
       "      <td>0.962036</td>\n",
       "      <td>0.0</td>\n",
       "      <td>0.075195</td>\n",
       "    </tr>\n",
       "    <tr>\n",
       "      <th>4</th>\n",
       "      <td>0.075195</td>\n",
       "      <td>0.008960</td>\n",
       "      <td>0.002235</td>\n",
       "      <td>0.014398</td>\n",
       "      <td>0.008230</td>\n",
       "      <td>0.003173</td>\n",
       "      <td>0.020939</td>\n",
       "      <td>0.000006</td>\n",
       "      <td>0.264435</td>\n",
       "      <td>0.164366</td>\n",
       "      <td>0.464072</td>\n",
       "      <td>0.853536</td>\n",
       "      <td>0.960557</td>\n",
       "      <td>0.0</td>\n",
       "      <td>0.095053</td>\n",
       "    </tr>\n",
       "    <tr>\n",
       "      <th>5</th>\n",
       "      <td>0.095053</td>\n",
       "      <td>0.006618</td>\n",
       "      <td>0.001772</td>\n",
       "      <td>0.012472</td>\n",
       "      <td>0.007440</td>\n",
       "      <td>0.003262</td>\n",
       "      <td>0.014299</td>\n",
       "      <td>0.000004</td>\n",
       "      <td>0.188285</td>\n",
       "      <td>0.205617</td>\n",
       "      <td>0.478279</td>\n",
       "      <td>0.785604</td>\n",
       "      <td>0.959420</td>\n",
       "      <td>0.0</td>\n",
       "      <td>0.109902</td>\n",
       "    </tr>\n",
       "  </tbody>\n",
       "</table>\n",
       "</div>"
      ],
      "text/plain": [
       "   var1(t-1)  var2(t-1)  var3(t-1)  var4(t-1)  var5(t-1)  var6(t-1)  \\\n",
       "1   0.068915   0.009341   0.002724   0.011100   0.002253   0.002730   \n",
       "2   0.083653   0.004773   0.001281   0.011264   0.002089   0.002375   \n",
       "3   0.110260   0.010864   0.002736   0.010219   0.009678   0.003573   \n",
       "4   0.075195   0.008960   0.002235   0.014398   0.008230   0.003173   \n",
       "5   0.095053   0.006618   0.001772   0.012472   0.007440   0.003262   \n",
       "\n",
       "   var7(t-1)  var8(t-1)  var9(t-1)  var10(t-1)  var11(t-1)  var12(t-1)  \\\n",
       "1   0.005174   0.000008   0.091213    0.590294    0.473337    0.963577   \n",
       "2   0.005479   0.000006   0.133054    0.354899    0.460366    0.963577   \n",
       "3   0.016519   0.000008   0.251883    0.194311    0.457896    0.914916   \n",
       "4   0.020939   0.000006   0.264435    0.164366    0.464072    0.853536   \n",
       "5   0.014299   0.000004   0.188285    0.205617    0.478279    0.785604   \n",
       "\n",
       "   var13(t-1)  var14(t-1)   var1(t)  \n",
       "1    0.964391         0.0  0.083653  \n",
       "2    0.964130         0.0  0.110260  \n",
       "3    0.962036         0.0  0.075195  \n",
       "4    0.960557         0.0  0.095053  \n",
       "5    0.959420         0.0  0.109902  "
      ]
     },
     "execution_count": 8,
     "metadata": {},
     "output_type": "execute_result"
    }
   ],
   "source": [
    "reframed.head()"
   ]
  },
  {
   "cell_type": "markdown",
   "id": "704a993d",
   "metadata": {},
   "source": [
    "## Create X and Y variables"
   ]
  },
  {
   "cell_type": "code",
   "execution_count": 9,
   "id": "cf58ef07",
   "metadata": {},
   "outputs": [
    {
     "data": {
      "text/plain": [
       "(87646, 15)"
      ]
     },
     "execution_count": 9,
     "metadata": {},
     "output_type": "execute_result"
    }
   ],
   "source": [
    "values.shape"
   ]
  },
  {
   "cell_type": "code",
   "execution_count": 10,
   "id": "ca1e4b00",
   "metadata": {},
   "outputs": [],
   "source": [
    "X = values[:,:-1]"
   ]
  },
  {
   "cell_type": "code",
   "execution_count": 11,
   "id": "6788de1c",
   "metadata": {},
   "outputs": [],
   "source": [
    "Y = values[:,-1]"
   ]
  },
  {
   "cell_type": "markdown",
   "id": "5c46a655",
   "metadata": {},
   "source": [
    "## Check the shapes"
   ]
  },
  {
   "cell_type": "code",
   "execution_count": 12,
   "id": "b733065b",
   "metadata": {},
   "outputs": [
    {
     "data": {
      "text/plain": [
       "(87646, 14)"
      ]
     },
     "execution_count": 12,
     "metadata": {},
     "output_type": "execute_result"
    }
   ],
   "source": [
    "X.shape"
   ]
  },
  {
   "cell_type": "code",
   "execution_count": 13,
   "id": "37c2a082",
   "metadata": {},
   "outputs": [
    {
     "data": {
      "text/plain": [
       "(87646,)"
      ]
     },
     "execution_count": 13,
     "metadata": {},
     "output_type": "execute_result"
    }
   ],
   "source": [
    "Y.shape"
   ]
  },
  {
   "cell_type": "markdown",
   "id": "5a310b70",
   "metadata": {},
   "source": [
    "## Reshaping\n",
    "\n",
    "The format that Keras expects is [batches, timesteps, features]"
   ]
  },
  {
   "cell_type": "code",
   "execution_count": 14,
   "id": "9e57a19a",
   "metadata": {},
   "outputs": [],
   "source": [
    "X = X.reshape(X.shape[0],X.shape[1])"
   ]
  },
  {
   "cell_type": "code",
   "execution_count": 15,
   "id": "d9f99572",
   "metadata": {},
   "outputs": [
    {
     "data": {
      "text/plain": [
       "(87646, 14)"
      ]
     },
     "execution_count": 15,
     "metadata": {},
     "output_type": "execute_result"
    }
   ],
   "source": [
    "X.shape"
   ]
  },
  {
   "cell_type": "markdown",
   "id": "33e67507",
   "metadata": {},
   "source": [
    "## Training, validation and testing split"
   ]
  },
  {
   "cell_type": "code",
   "execution_count": 16,
   "id": "754e3096",
   "metadata": {},
   "outputs": [],
   "source": [
    "X_train, X_test, Y_train, Y_test = train_test_split(X, Y, test_size=0.20, random_state=42)\n",
    "X_train, X_val, Y_train, Y_val = train_test_split(X_train, Y_train, test_size=0.20, random_state=42)"
   ]
  },
  {
   "cell_type": "markdown",
   "id": "6a0feae7",
   "metadata": {},
   "source": [
    "## Check the shape"
   ]
  },
  {
   "cell_type": "code",
   "execution_count": 17,
   "id": "0f4a829a",
   "metadata": {},
   "outputs": [
    {
     "name": "stdout",
     "output_type": "stream",
     "text": [
      "X_train: (56092, 14)\n",
      "Y_train: (56092,)\n",
      "\n",
      "X_val: (14024, 14)\n",
      "Y_val: (14024,)\n",
      "\n",
      "X_test: (17530, 14)\n",
      "Y_test: (17530,)\n"
     ]
    }
   ],
   "source": [
    "print ('X_train:',X_train.shape)\n",
    "print ('Y_train:',Y_train.shape)\n",
    "print ()\n",
    "print ('X_val:',X_val.shape)\n",
    "print ('Y_val:',Y_val.shape)\n",
    "print ()\n",
    "print ('X_test:',X_test.shape)\n",
    "print ('Y_test:',Y_test.shape)"
   ]
  },
  {
   "cell_type": "markdown",
   "id": "b5beac5d",
   "metadata": {},
   "source": [
    "## Define a model"
   ]
  },
  {
   "cell_type": "code",
   "execution_count": 18,
   "id": "a8120938",
   "metadata": {},
   "outputs": [],
   "source": [
    "model = Sequential()\n",
    "model.add(Dense(56, activation=\"relu\", input_dim = 14))\n",
    "model.add(Dense(1, activation = 'sigmoid'))\n",
    "model.compile(loss='mse', optimizer='adam')"
   ]
  },
  {
   "cell_type": "markdown",
   "id": "3d5ccb9d",
   "metadata": {},
   "source": [
    "## Print summary"
   ]
  },
  {
   "cell_type": "code",
   "execution_count": 19,
   "id": "3bbad727",
   "metadata": {},
   "outputs": [
    {
     "name": "stdout",
     "output_type": "stream",
     "text": [
      "Model: \"sequential\"\n",
      "_________________________________________________________________\n",
      " Layer (type)                Output Shape              Param #   \n",
      "=================================================================\n",
      " dense (Dense)               (None, 56)                840       \n",
      "                                                                 \n",
      " dense_1 (Dense)             (None, 1)                 57        \n",
      "                                                                 \n",
      "=================================================================\n",
      "Total params: 897\n",
      "Trainable params: 897\n",
      "Non-trainable params: 0\n",
      "_________________________________________________________________\n"
     ]
    }
   ],
   "source": [
    "model.summary()"
   ]
  },
  {
   "cell_type": "markdown",
   "id": "00530d58",
   "metadata": {},
   "source": [
    "## Training"
   ]
  },
  {
   "cell_type": "code",
   "execution_count": 20,
   "id": "1873ce48",
   "metadata": {},
   "outputs": [
    {
     "name": "stdout",
     "output_type": "stream",
     "text": [
      "Epoch 1/50\n",
      "3506/3506 [==============================] - 15s 4ms/step - loss: 0.0041 - val_loss: 0.0020\n",
      "Epoch 2/50\n",
      "3506/3506 [==============================] - 13s 4ms/step - loss: 0.0019 - val_loss: 0.0018\n",
      "Epoch 3/50\n",
      "3506/3506 [==============================] - 13s 4ms/step - loss: 0.0018 - val_loss: 0.0017\n",
      "Epoch 4/50\n",
      "3506/3506 [==============================] - 13s 4ms/step - loss: 0.0018 - val_loss: 0.0018\n",
      "Epoch 5/50\n",
      "3506/3506 [==============================] - 13s 4ms/step - loss: 0.0018 - val_loss: 0.0017\n",
      "Epoch 6/50\n",
      "3506/3506 [==============================] - 13s 4ms/step - loss: 0.0017 - val_loss: 0.0017\n",
      "Epoch 7/50\n",
      "3506/3506 [==============================] - 13s 4ms/step - loss: 0.0017 - val_loss: 0.0017\n",
      "Epoch 8/50\n",
      "3506/3506 [==============================] - 13s 4ms/step - loss: 0.0017 - val_loss: 0.0017\n",
      "Epoch 9/50\n",
      "3506/3506 [==============================] - 13s 4ms/step - loss: 0.0017 - val_loss: 0.0017\n",
      "Epoch 10/50\n",
      "3506/3506 [==============================] - 13s 4ms/step - loss: 0.0017 - val_loss: 0.0017\n",
      "Epoch 11/50\n",
      "3506/3506 [==============================] - 13s 4ms/step - loss: 0.0017 - val_loss: 0.0017\n",
      "Epoch 12/50\n",
      "3506/3506 [==============================] - 13s 4ms/step - loss: 0.0017 - val_loss: 0.0017\n",
      "Epoch 13/50\n",
      "3506/3506 [==============================] - 13s 4ms/step - loss: 0.0017 - val_loss: 0.0017\n",
      "Epoch 14/50\n",
      "3506/3506 [==============================] - 13s 4ms/step - loss: 0.0017 - val_loss: 0.0018\n",
      "Epoch 15/50\n",
      "3506/3506 [==============================] - 13s 4ms/step - loss: 0.0017 - val_loss: 0.0017\n",
      "Epoch 16/50\n",
      "3506/3506 [==============================] - 13s 4ms/step - loss: 0.0017 - val_loss: 0.0018\n",
      "Epoch 17/50\n",
      "3506/3506 [==============================] - 13s 4ms/step - loss: 0.0017 - val_loss: 0.0017\n",
      "Epoch 18/50\n",
      "3506/3506 [==============================] - 13s 4ms/step - loss: 0.0017 - val_loss: 0.0017\n",
      "Epoch 19/50\n",
      "3506/3506 [==============================] - 13s 4ms/step - loss: 0.0017 - val_loss: 0.0017\n",
      "Epoch 20/50\n",
      "3506/3506 [==============================] - 13s 4ms/step - loss: 0.0017 - val_loss: 0.0017\n",
      "Epoch 21/50\n",
      "3506/3506 [==============================] - 13s 4ms/step - loss: 0.0017 - val_loss: 0.0017\n",
      "Epoch 22/50\n",
      "3506/3506 [==============================] - 13s 4ms/step - loss: 0.0017 - val_loss: 0.0017\n",
      "Epoch 23/50\n",
      "3506/3506 [==============================] - 13s 4ms/step - loss: 0.0017 - val_loss: 0.0017\n",
      "Epoch 24/50\n",
      "3506/3506 [==============================] - 13s 4ms/step - loss: 0.0017 - val_loss: 0.0017\n",
      "Epoch 25/50\n",
      "3506/3506 [==============================] - 12s 4ms/step - loss: 0.0017 - val_loss: 0.0017\n",
      "Epoch 26/50\n",
      "3506/3506 [==============================] - 13s 4ms/step - loss: 0.0017 - val_loss: 0.0017\n",
      "Epoch 27/50\n",
      "3506/3506 [==============================] - 13s 4ms/step - loss: 0.0017 - val_loss: 0.0017\n",
      "Epoch 28/50\n",
      "3506/3506 [==============================] - 13s 4ms/step - loss: 0.0017 - val_loss: 0.0017\n",
      "Epoch 29/50\n",
      "3506/3506 [==============================] - 13s 4ms/step - loss: 0.0017 - val_loss: 0.0017\n",
      "Epoch 30/50\n",
      "3506/3506 [==============================] - 12s 4ms/step - loss: 0.0017 - val_loss: 0.0017\n",
      "Epoch 31/50\n",
      "3506/3506 [==============================] - 13s 4ms/step - loss: 0.0017 - val_loss: 0.0017\n",
      "Epoch 32/50\n",
      "3506/3506 [==============================] - 12s 4ms/step - loss: 0.0017 - val_loss: 0.0017\n",
      "Epoch 33/50\n",
      "3506/3506 [==============================] - 13s 4ms/step - loss: 0.0017 - val_loss: 0.0017\n",
      "Epoch 34/50\n",
      "3506/3506 [==============================] - 13s 4ms/step - loss: 0.0017 - val_loss: 0.0017\n",
      "Epoch 35/50\n",
      "3506/3506 [==============================] - 12s 4ms/step - loss: 0.0017 - val_loss: 0.0017\n",
      "Epoch 36/50\n",
      "3506/3506 [==============================] - 13s 4ms/step - loss: 0.0017 - val_loss: 0.0017\n",
      "Epoch 37/50\n",
      "3506/3506 [==============================] - 12s 4ms/step - loss: 0.0017 - val_loss: 0.0017\n",
      "Epoch 38/50\n",
      "3506/3506 [==============================] - 12s 4ms/step - loss: 0.0017 - val_loss: 0.0017\n",
      "Epoch 39/50\n",
      "3506/3506 [==============================] - 13s 4ms/step - loss: 0.0017 - val_loss: 0.0017\n",
      "Epoch 40/50\n",
      "3506/3506 [==============================] - 13s 4ms/step - loss: 0.0017 - val_loss: 0.0017\n",
      "Epoch 41/50\n",
      "3506/3506 [==============================] - 13s 4ms/step - loss: 0.0017 - val_loss: 0.0017\n",
      "Epoch 42/50\n",
      "3506/3506 [==============================] - 12s 4ms/step - loss: 0.0017 - val_loss: 0.0017\n",
      "Epoch 43/50\n",
      "3506/3506 [==============================] - 13s 4ms/step - loss: 0.0017 - val_loss: 0.0017\n",
      "Epoch 44/50\n",
      "3506/3506 [==============================] - 12s 4ms/step - loss: 0.0017 - val_loss: 0.0017\n",
      "Epoch 45/50\n",
      "3506/3506 [==============================] - 13s 4ms/step - loss: 0.0017 - val_loss: 0.0017\n",
      "Epoch 46/50\n",
      "3506/3506 [==============================] - 13s 4ms/step - loss: 0.0017 - val_loss: 0.0017\n",
      "Epoch 47/50\n",
      "3506/3506 [==============================] - 12s 4ms/step - loss: 0.0017 - val_loss: 0.0017\n",
      "Epoch 48/50\n",
      "3506/3506 [==============================] - 12s 4ms/step - loss: 0.0017 - val_loss: 0.0017\n",
      "Epoch 49/50\n",
      "3506/3506 [==============================] - 12s 3ms/step - loss: 0.0017 - val_loss: 0.0017\n",
      "Epoch 50/50\n",
      "3506/3506 [==============================] - 13s 4ms/step - loss: 0.0017 - val_loss: 0.0017\n"
     ]
    }
   ],
   "source": [
    "history = model.fit(X_train, Y_train, validation_data=(X_val, Y_val),  epochs=50, batch_size=16,  verbose=1)"
   ]
  },
  {
   "cell_type": "markdown",
   "id": "cd31c00a",
   "metadata": {},
   "source": [
    "## Plot the performance"
   ]
  },
  {
   "cell_type": "code",
   "execution_count": 21,
   "id": "70f24700",
   "metadata": {},
   "outputs": [
    {
     "data": {
      "image/png": "[encoded data removed]",
      "text/plain": [
       "<Figure size 432x288 with 1 Axes>"
      ]
     },
     "metadata": {
      "needs_background": "light"
     },
     "output_type": "display_data"
    }
   ],
   "source": [
    "plt.plot(history.history['loss'], label='train')\n",
    "plt.plot(history.history['val_loss'], label='validation')\n",
    "plt.ylabel('LOSS', fontname=\"Times New Roman\", size=20,fontweight=\"bold\")\n",
    "plt.xlabel('Epochs', fontname=\"Times New Roman\", size=20,fontweight=\"bold\")\n",
    "plt.title('Loss over epochs', fontname=\"Times New Roman\", size=28,fontweight=\"bold\")\n",
    "legend_properties = {'weight':'bold'}\n",
    "plt.legend()\n",
    "plt.show()"
   ]
  },
  {
   "cell_type": "markdown",
   "id": "d4ebb99d",
   "metadata": {},
   "source": [
    "## Predict"
   ]
  },
  {
   "cell_type": "code",
   "execution_count": 22,
   "id": "bf2a8a86",
   "metadata": {},
   "outputs": [
    {
     "name": "stdout",
     "output_type": "stream",
     "text": [
      "548/548 [==============================] - 2s 2ms/step\n"
     ]
    }
   ],
   "source": [
    "prediction = model.predict(X_test)"
   ]
  },
  {
   "cell_type": "code",
   "execution_count": 23,
   "id": "d3186f01",
   "metadata": {},
   "outputs": [
    {
     "data": {
      "text/plain": [
       "0.023355486"
      ]
     },
     "execution_count": 23,
     "metadata": {},
     "output_type": "execute_result"
    }
   ],
   "source": [
    "mean_absolute_error(Y_test, prediction)"
   ]
  },
  {
   "cell_type": "code",
   "execution_count": 24,
   "id": "1ba914d1",
   "metadata": {
    "scrolled": true
   },
   "outputs": [
    {
     "data": {
      "text/plain": [
       "119960855000.0"
      ]
     },
     "execution_count": 24,
     "metadata": {},
     "output_type": "execute_result"
    }
   ],
   "source": [
    "mean_absolute_percentage_error(Y_test, prediction)"
   ]
  },
  {
   "cell_type": "code",
   "execution_count": 25,
   "id": "acd2a756",
   "metadata": {},
   "outputs": [
    {
     "data": {
      "text/plain": [
       "0.0016362711"
      ]
     },
     "execution_count": 25,
     "metadata": {},
     "output_type": "execute_result"
    }
   ],
   "source": [
    "mean_squared_error(Y_test, prediction)"
   ]
  },
  {
   "cell_type": "code",
   "execution_count": 26,
   "id": "5f7f7eb2",
   "metadata": {},
   "outputs": [
    {
     "name": "stdout",
     "output_type": "stream",
     "text": [
      "0.040450848349030365\n"
     ]
    }
   ],
   "source": [
    "rmse = sqrt(mean_squared_error(Y_test, prediction))\n",
    "print(rmse)"
   ]
  },
  {
   "cell_type": "code",
   "execution_count": 27,
   "id": "3d65b773",
   "metadata": {},
   "outputs": [
    {
     "data": {
      "text/plain": [
       "0.7786365903667994"
      ]
     },
     "execution_count": 27,
     "metadata": {},
     "output_type": "execute_result"
    }
   ],
   "source": [
    "r2_score(Y_test, prediction)"
   ]
  },
  {
   "cell_type": "code",
   "execution_count": null,
   "id": "6c45f6f0",
   "metadata": {},
   "outputs": [],
   "source": [
    "print('accuracy testing = {}'.format(np.sum(prediction==Y_test)))"
   ]
  },
  {
   "cell_type": "markdown",
   "id": "f619fb06",
   "metadata": {},
   "source": [
    "## Compare prediction and testing data"
   ]
  },
  {
   "cell_type": "code",
   "execution_count": null,
   "id": "f721486e",
   "metadata": {},
   "outputs": [],
   "source": [
    "plt.plot(Y_test[0:48], color='blue', label = 'Observed')\n",
    "plt.plot(prediction[0:48], color='red', label = 'Predicted')\n",
    "plt.ylabel('O3', fontname=\"Times New Roman\", size=20,fontweight=\"bold\")\n",
    "plt.xlabel('Time(Hrs)', fontname=\"Times New Roman\", size=20,fontweight=\"bold\")\n",
    "plt.title('Middelburg MLP', fontname=\"Times New Roman\", size=28,fontweight=\"bold\")\n",
    "legend_properties = {'weight':'bold'}\n",
    "plt.legend(prop=legend_properties)\n",
    "plt.show()"
   ]
  },
  {
   "cell_type": "code",
   "execution_count": null,
   "id": "de0af42c",
   "metadata": {},
   "outputs": [],
   "source": [
    "mean_absolute_error(Y_test[1:6], prediction[1:6])"
   ]
  },
  {
   "cell_type": "code",
   "execution_count": null,
   "id": "9c248c0b",
   "metadata": {},
   "outputs": [],
   "source": [
    "mean_absolute_error(Y_test[1:12], prediction[1:12])"
   ]
  },
  {
   "cell_type": "code",
   "execution_count": null,
   "id": "72f00026",
   "metadata": {},
   "outputs": [],
   "source": [
    "mean_absolute_error(Y_test[1:18], prediction[1:18])"
   ]
  },
  {
   "cell_type": "code",
   "execution_count": null,
   "id": "3fd5bfec",
   "metadata": {},
   "outputs": [],
   "source": [
    "mean_absolute_error(Y_test[1:24], prediction[1:24])"
   ]
  },
  {
   "cell_type": "code",
   "execution_count": null,
   "id": "e260ca70",
   "metadata": {},
   "outputs": [],
   "source": [
    "mean_absolute_error(Y_test[1:36], prediction[1:36])"
   ]
  },
  {
   "cell_type": "code",
   "execution_count": null,
   "id": "5f9d8881",
   "metadata": {},
   "outputs": [],
   "source": [
    "mean_absolute_error(Y_test[1:48], prediction[1:48])"
   ]
  },
  {
   "cell_type": "code",
   "execution_count": null,
   "id": "2bfa6837",
   "metadata": {},
   "outputs": [],
   "source": []
  },
  {
   "cell_type": "code",
   "execution_count": null,
   "id": "72aa6b46",
   "metadata": {},
   "outputs": [],
   "source": [
    "rmse = sqrt(mean_squared_error(Y_test[1:6], prediction[1:6]))\n",
    "print(rmse)"
   ]
  },
  {
   "cell_type": "code",
   "execution_count": null,
   "id": "998ba931",
   "metadata": {},
   "outputs": [],
   "source": [
    "rmse = sqrt(mean_squared_error(Y_test[1:12], prediction[1:12]))\n",
    "print(rmse)"
   ]
  },
  {
   "cell_type": "code",
   "execution_count": null,
   "id": "65ca57ab",
   "metadata": {},
   "outputs": [],
   "source": [
    "rmse = sqrt(mean_squared_error(Y_test[1:18], prediction[1:18]))\n",
    "print(rmse)"
   ]
  },
  {
   "cell_type": "code",
   "execution_count": null,
   "id": "d63c25e0",
   "metadata": {},
   "outputs": [],
   "source": [
    "rmse = sqrt(mean_squared_error(Y_test[1:24], prediction[1:24]))\n",
    "print(rmse)"
   ]
  },
  {
   "cell_type": "code",
   "execution_count": null,
   "id": "053c8386",
   "metadata": {},
   "outputs": [],
   "source": [
    "rmse = sqrt(mean_squared_error(Y_test[1:36], prediction[1:36]))\n",
    "print(rmse)"
   ]
  },
  {
   "cell_type": "code",
   "execution_count": null,
   "id": "584eba28",
   "metadata": {},
   "outputs": [],
   "source": [
    "rmse = sqrt(mean_squared_error(Y_test[1:48], prediction[1:48]))\n",
    "print(rmse)"
   ]
  },
  {
   "cell_type": "code",
   "execution_count": null,
   "id": "c7baa62a",
   "metadata": {},
   "outputs": [],
   "source": []
  },
  {
   "cell_type": "code",
   "execution_count": null,
   "id": "c875cc22",
   "metadata": {},
   "outputs": [],
   "source": []
  }
 ],
 "metadata": {
  "kernelspec": {
   "display_name": "Python 3 (ipykernel)",
   "language": "python",
   "name": "python3"
  },
  "language_info": {
   "codemirror_mode": {
    "name": "ipython",
    "version": 3
   },
   "file_extension": ".py",
   "mimetype": "text/x-python",
   "name": "python",
   "nbconvert_exporter": "python",
   "pygments_lexer": "ipython3",
   "version": "3.9.7"
  }
 },
 "nbformat": 4,
 "nbformat_minor": 5
}
