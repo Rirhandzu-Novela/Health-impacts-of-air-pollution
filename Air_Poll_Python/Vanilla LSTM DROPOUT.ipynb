{
 "cells": [
  {
   "cell_type": "markdown",
   "id": "196c63f2",
   "metadata": {},
   "source": [
    "# Import"
   ]
  },
  {
   "cell_type": "code",
   "execution_count": 1,
   "id": "8468f4ae",
   "metadata": {},
   "outputs": [
    {
     "name": "stdout",
     "output_type": "stream",
     "text": [
      "2.9.1\n"
     ]
    }
   ],
   "source": [
    "import numpy as np\n",
    "from math import sqrt \n",
    "import pandas as pd\n",
    "import matplotlib.pyplot as plt \n",
    "from keras.models import Sequential\n",
    "from keras.layers import Dense\n",
    "from keras.layers import LSTM\n",
    "from keras.layers import Dropout\n",
    "from sklearn.preprocessing import MinMaxScaler\n",
    "from sklearn.model_selection import train_test_split\n",
    "from sklearn.metrics import r2_score \n",
    "from sklearn.metrics import mean_squared_error\n",
    "from sklearn.metrics import mean_absolute_error\n",
    "from sklearn.metrics import mean_absolute_percentage_error\n",
    "\n",
    "\n",
    "%matplotlib inline\n",
    "#%tensorflow_version 1.x\n",
    "import tensorflow as tf\n",
    "print(tf.__version__)\n"
   ]
  },
  {
   "cell_type": "markdown",
   "id": "0e491d36",
   "metadata": {},
   "source": [
    "## load dataset"
   ]
  },
  {
   "cell_type": "code",
   "execution_count": 2,
   "id": "51f8628e",
   "metadata": {},
   "outputs": [],
   "source": [
    "dataset = pd.read_csv('eMalahleniIM.csv', sep =';', header=0, index_col=0)\n",
    "values = dataset.values"
   ]
  },
  {
   "cell_type": "markdown",
   "id": "4ba64023",
   "metadata": {},
   "source": [
    "## Plot pm2.5"
   ]
  },
  {
   "cell_type": "code",
   "execution_count": 3,
   "id": "a5279d95",
   "metadata": {},
   "outputs": [
    {
     "data": {
      "image/png": "[encoded data removed]",
      "text/plain": [
       "<Figure size 432x288 with 1 Axes>"
      ]
     },
     "metadata": {
      "needs_background": "light"
     },
     "output_type": "display_data"
    }
   ],
   "source": [
    "plt.plot(values[:,0])\n",
    "plt.ylabel(dataset.columns[0])\n",
    "plt.show()"
   ]
  },
  {
   "cell_type": "markdown",
   "id": "9c24073a",
   "metadata": {},
   "source": [
    "## Data preparation\n",
    "\n",
    "We need a way to prepare the data for whatever way we would like to formulate the problem.\n",
    "\n",
    "In this case we are formulating it such that we take in 1 time step input (14 variables) and output 1 time step output (1 variable). In other words we are trying to solve the following question: given the pollution and weather conditions of the previous hour, can we predict the PM2.5 level for the next hour.\n",
    "\n",
    "The single variable we are outputing is the PM2.5 level. Note we also use PM2.5 level in our input.\n",
    "\n",
    "Credit for this code: https://machinelearningmastery.com/convert-time-series-supervised-learning-problem-python/"
   ]
  },
  {
   "cell_type": "code",
   "execution_count": 4,
   "id": "dd5c2777",
   "metadata": {},
   "outputs": [],
   "source": [
    "def series_to_supervised(data, n_in=1, n_out=1, dropnan=True):\n",
    "    n_vars = 1 if type(data) is list else data.shape[1]\n",
    "    df = pd.DataFrame(data)\n",
    "    cols, names = list(), list()\n",
    "    # input sequence (t-n, ... t-1)\n",
    "    for i in range(n_in, 0, -1):\n",
    "        cols.append(df.shift(i))\n",
    "        names += [('var%d(t-%d)' % (j+1, i)) for j in range(n_vars)]\n",
    "    # forecast sequence (t, t+1, ... t+n)\n",
    "    for i in range(0, n_out):\n",
    "        cols.append(df.shift(-i))\n",
    "        if i == 0:\n",
    "            names += [('var%d(t)' % (j+1)) for j in range(n_vars)]\n",
    "        else:\n",
    "            names += [('var%d(t+%d)' % (j+1, i)) for j in range(n_vars)]\n",
    "    # put it all together\n",
    "    agg = pd.concat(cols, axis=1)\n",
    "    agg.columns = names\n",
    "    # drop rows with NaN values\n",
    "    if dropnan:\n",
    "        agg.dropna(inplace=True)\n",
    "    return agg"
   ]
  },
  {
   "cell_type": "markdown",
   "id": "8fbbb702",
   "metadata": {},
   "source": [
    "## Get column names"
   ]
  },
  {
   "cell_type": "code",
   "execution_count": 5,
   "id": "bbfc14ab",
   "metadata": {},
   "outputs": [
    {
     "data": {
      "text/plain": [
       "Index(['PM10', 'PM2.5', 'SO2', 'NO2', 'NO', 'NOx', 'O3', 'CO', 'Amb Wspeed',\n",
       "       'Amb WDirection', 'Temperature', 'Amb RelHum', 'Amb Pressure', 'Rain'],\n",
       "      dtype='object')"
      ]
     },
     "execution_count": 5,
     "metadata": {},
     "output_type": "execute_result"
    }
   ],
   "source": [
    "dataset.columns"
   ]
  },
  {
   "cell_type": "markdown",
   "id": "6b6cd649",
   "metadata": {},
   "source": [
    "##Actually perform the data preparation\n",
    "\n",
    "We scale the values between 0 and 1.\n",
    "\n",
    "The code which converts the data into the suitable way we want, in this case, will produce 14 output variables. In our case we only want to predict PM2.5, that is why we drop the other collumns from the dataframe.\n",
    "\n",
    "Credit for this code: https://machinelearningmastery.com/multivariate-time-series-forecasting-lstms-keras/"
   ]
  },
  {
   "cell_type": "code",
   "execution_count": 6,
   "id": "68094b1e",
   "metadata": {},
   "outputs": [],
   "source": [
    "# ensure all data is float\n",
    "values = values.astype('float32')\n",
    "\n",
    "# normalize features\n",
    "scaler = MinMaxScaler(feature_range=(0, 1))\n",
    "scaled = scaler.fit_transform(values)\n",
    "\n",
    "# frame as supervised learning\n",
    "reframed = series_to_supervised(scaled, 1, 1)\n",
    "\n",
    "# drop columns we don't want to predict\n",
    "# We drop these because we are only interested in predicting for a single variable (pollution).\n",
    "# If we don't drop, then we will be predicting for all the variables too!\n",
    "reframed.drop(reframed.columns[[15, 16, 17, 18, 19, 20, 21, 22, 23, 24, 25, 26, 27]], axis=1, inplace=True)\n",
    "values = reframed.values"
   ]
  },
  {
   "cell_type": "markdown",
   "id": "52d5bbb8",
   "metadata": {},
   "source": [
    "## View the data"
   ]
  },
  {
   "cell_type": "code",
   "execution_count": 7,
   "id": "44d39eda",
   "metadata": {
    "scrolled": true
   },
   "outputs": [
    {
     "data": {
      "text/html": [
       "<div>\n",
       "<style scoped>\n",
       "    .dataframe tbody tr th:only-of-type {\n",
       "        vertical-align: middle;\n",
       "    }\n",
       "\n",
       "    .dataframe tbody tr th {\n",
       "        vertical-align: top;\n",
       "    }\n",
       "\n",
       "    .dataframe thead th {\n",
       "        text-align: right;\n",
       "    }\n",
       "</style>\n",
       "<table border=\"1\" class=\"dataframe\">\n",
       "  <thead>\n",
       "    <tr style=\"text-align: right;\">\n",
       "      <th></th>\n",
       "      <th>var1(t-1)</th>\n",
       "      <th>var2(t-1)</th>\n",
       "      <th>var3(t-1)</th>\n",
       "      <th>var4(t-1)</th>\n",
       "      <th>var5(t-1)</th>\n",
       "      <th>var6(t-1)</th>\n",
       "      <th>var7(t-1)</th>\n",
       "      <th>var8(t-1)</th>\n",
       "      <th>var9(t-1)</th>\n",
       "      <th>var10(t-1)</th>\n",
       "      <th>var11(t-1)</th>\n",
       "      <th>var12(t-1)</th>\n",
       "      <th>var13(t-1)</th>\n",
       "      <th>var14(t-1)</th>\n",
       "      <th>var1(t)</th>\n",
       "    </tr>\n",
       "  </thead>\n",
       "  <tbody>\n",
       "    <tr>\n",
       "      <th>1</th>\n",
       "      <td>0.009453</td>\n",
       "      <td>0.007294</td>\n",
       "      <td>0.006847</td>\n",
       "      <td>0.009761</td>\n",
       "      <td>0.004123</td>\n",
       "      <td>0.006336</td>\n",
       "      <td>0.187196</td>\n",
       "      <td>0.000071</td>\n",
       "      <td>0.488058</td>\n",
       "      <td>0.493500</td>\n",
       "      <td>0.592229</td>\n",
       "      <td>0.837531</td>\n",
       "      <td>0.980956</td>\n",
       "      <td>0.033369</td>\n",
       "      <td>0.009666</td>\n",
       "    </tr>\n",
       "    <tr>\n",
       "      <th>2</th>\n",
       "      <td>0.009666</td>\n",
       "      <td>0.010048</td>\n",
       "      <td>0.026619</td>\n",
       "      <td>0.037195</td>\n",
       "      <td>0.003581</td>\n",
       "      <td>0.015276</td>\n",
       "      <td>0.164478</td>\n",
       "      <td>0.000061</td>\n",
       "      <td>0.455867</td>\n",
       "      <td>0.539833</td>\n",
       "      <td>0.553829</td>\n",
       "      <td>0.944052</td>\n",
       "      <td>0.982502</td>\n",
       "      <td>0.244162</td>\n",
       "      <td>0.014032</td>\n",
       "    </tr>\n",
       "    <tr>\n",
       "      <th>3</th>\n",
       "      <td>0.014032</td>\n",
       "      <td>0.014699</td>\n",
       "      <td>0.040193</td>\n",
       "      <td>0.051299</td>\n",
       "      <td>0.004753</td>\n",
       "      <td>0.020932</td>\n",
       "      <td>0.110602</td>\n",
       "      <td>0.000369</td>\n",
       "      <td>0.373832</td>\n",
       "      <td>0.403778</td>\n",
       "      <td>0.546514</td>\n",
       "      <td>0.918666</td>\n",
       "      <td>0.982652</td>\n",
       "      <td>0.160709</td>\n",
       "      <td>0.005570</td>\n",
       "    </tr>\n",
       "    <tr>\n",
       "      <th>4</th>\n",
       "      <td>0.005570</td>\n",
       "      <td>0.005892</td>\n",
       "      <td>0.013477</td>\n",
       "      <td>0.005693</td>\n",
       "      <td>0.002923</td>\n",
       "      <td>0.004080</td>\n",
       "      <td>0.212254</td>\n",
       "      <td>0.000337</td>\n",
       "      <td>0.505711</td>\n",
       "      <td>0.313139</td>\n",
       "      <td>0.544229</td>\n",
       "      <td>0.860627</td>\n",
       "      <td>0.980541</td>\n",
       "      <td>0.056345</td>\n",
       "      <td>0.003912</td>\n",
       "    </tr>\n",
       "    <tr>\n",
       "      <th>5</th>\n",
       "      <td>0.003912</td>\n",
       "      <td>0.003906</td>\n",
       "      <td>0.008607</td>\n",
       "      <td>0.011296</td>\n",
       "      <td>0.003721</td>\n",
       "      <td>0.006565</td>\n",
       "      <td>0.200885</td>\n",
       "      <td>0.000096</td>\n",
       "      <td>0.280374</td>\n",
       "      <td>0.275417</td>\n",
       "      <td>0.562971</td>\n",
       "      <td>0.794724</td>\n",
       "      <td>0.979422</td>\n",
       "      <td>0.006261</td>\n",
       "      <td>0.009041</td>\n",
       "    </tr>\n",
       "  </tbody>\n",
       "</table>\n",
       "</div>"
      ],
      "text/plain": [
       "   var1(t-1)  var2(t-1)  var3(t-1)  var4(t-1)  var5(t-1)  var6(t-1)  \\\n",
       "1   0.009453   0.007294   0.006847   0.009761   0.004123   0.006336   \n",
       "2   0.009666   0.010048   0.026619   0.037195   0.003581   0.015276   \n",
       "3   0.014032   0.014699   0.040193   0.051299   0.004753   0.020932   \n",
       "4   0.005570   0.005892   0.013477   0.005693   0.002923   0.004080   \n",
       "5   0.003912   0.003906   0.008607   0.011296   0.003721   0.006565   \n",
       "\n",
       "   var7(t-1)  var8(t-1)  var9(t-1)  var10(t-1)  var11(t-1)  var12(t-1)  \\\n",
       "1   0.187196   0.000071   0.488058    0.493500    0.592229    0.837531   \n",
       "2   0.164478   0.000061   0.455867    0.539833    0.553829    0.944052   \n",
       "3   0.110602   0.000369   0.373832    0.403778    0.546514    0.918666   \n",
       "4   0.212254   0.000337   0.505711    0.313139    0.544229    0.860627   \n",
       "5   0.200885   0.000096   0.280374    0.275417    0.562971    0.794724   \n",
       "\n",
       "   var13(t-1)  var14(t-1)   var1(t)  \n",
       "1    0.980956    0.033369  0.009666  \n",
       "2    0.982502    0.244162  0.014032  \n",
       "3    0.982652    0.160709  0.005570  \n",
       "4    0.980541    0.056345  0.003912  \n",
       "5    0.979422    0.006261  0.009041  "
      ]
     },
     "execution_count": 7,
     "metadata": {},
     "output_type": "execute_result"
    }
   ],
   "source": [
    "reframed.head()"
   ]
  },
  {
   "cell_type": "markdown",
   "id": "704a993d",
   "metadata": {},
   "source": [
    "## Create X and Y variables"
   ]
  },
  {
   "cell_type": "code",
   "execution_count": 8,
   "id": "cf58ef07",
   "metadata": {},
   "outputs": [
    {
     "data": {
      "text/plain": [
       "(87646, 15)"
      ]
     },
     "execution_count": 8,
     "metadata": {},
     "output_type": "execute_result"
    }
   ],
   "source": [
    "values.shape"
   ]
  },
  {
   "cell_type": "code",
   "execution_count": 9,
   "id": "ca1e4b00",
   "metadata": {},
   "outputs": [],
   "source": [
    "X = values[:,:-1]"
   ]
  },
  {
   "cell_type": "code",
   "execution_count": 10,
   "id": "6788de1c",
   "metadata": {},
   "outputs": [],
   "source": [
    "Y = values[:,-1]"
   ]
  },
  {
   "cell_type": "markdown",
   "id": "5c46a655",
   "metadata": {},
   "source": [
    "## Check the shapes"
   ]
  },
  {
   "cell_type": "code",
   "execution_count": 11,
   "id": "b733065b",
   "metadata": {},
   "outputs": [
    {
     "data": {
      "text/plain": [
       "(87646, 14)"
      ]
     },
     "execution_count": 11,
     "metadata": {},
     "output_type": "execute_result"
    }
   ],
   "source": [
    "X.shape"
   ]
  },
  {
   "cell_type": "code",
   "execution_count": 12,
   "id": "37c2a082",
   "metadata": {},
   "outputs": [
    {
     "data": {
      "text/plain": [
       "(87646,)"
      ]
     },
     "execution_count": 12,
     "metadata": {},
     "output_type": "execute_result"
    }
   ],
   "source": [
    "Y.shape"
   ]
  },
  {
   "cell_type": "markdown",
   "id": "5a310b70",
   "metadata": {},
   "source": [
    "## Reshaping\n",
    "\n",
    "The format that Keras expects is [batches, timesteps, features]"
   ]
  },
  {
   "cell_type": "code",
   "execution_count": 13,
   "id": "9e57a19a",
   "metadata": {},
   "outputs": [],
   "source": [
    "X = X.reshape(X.shape[0],1,X.shape[1])"
   ]
  },
  {
   "cell_type": "code",
   "execution_count": 14,
   "id": "d9f99572",
   "metadata": {},
   "outputs": [
    {
     "data": {
      "text/plain": [
       "(87646, 1, 14)"
      ]
     },
     "execution_count": 14,
     "metadata": {},
     "output_type": "execute_result"
    }
   ],
   "source": [
    "X.shape"
   ]
  },
  {
   "cell_type": "markdown",
   "id": "33e67507",
   "metadata": {},
   "source": [
    "## Training, validation and testing split"
   ]
  },
  {
   "cell_type": "code",
   "execution_count": 15,
   "id": "754e3096",
   "metadata": {},
   "outputs": [],
   "source": [
    "X_train, X_test, Y_train, Y_test = train_test_split(X, Y, test_size=0.20, random_state=42)\n",
    "X_train, X_val, Y_train, Y_val = train_test_split(X_train, Y_train, test_size=0.20, random_state=42)"
   ]
  },
  {
   "cell_type": "markdown",
   "id": "6a0feae7",
   "metadata": {},
   "source": [
    "## Check the shape"
   ]
  },
  {
   "cell_type": "code",
   "execution_count": 16,
   "id": "0f4a829a",
   "metadata": {},
   "outputs": [
    {
     "name": "stdout",
     "output_type": "stream",
     "text": [
      "X_train: (56092, 1, 14)\n",
      "Y_train: (56092,)\n",
      "\n",
      "X_val: (14024, 1, 14)\n",
      "Y_val: (14024,)\n",
      "\n",
      "X_test: (17530, 1, 14)\n",
      "Y_test: (17530,)\n"
     ]
    }
   ],
   "source": [
    "print ('X_train:',X_train.shape)\n",
    "print ('Y_train:',Y_train.shape)\n",
    "print ()\n",
    "print ('X_val:',X_val.shape)\n",
    "print ('Y_val:',Y_val.shape)\n",
    "print ()\n",
    "print ('X_test:',X_test.shape)\n",
    "print ('Y_test:',Y_test.shape)"
   ]
  },
  {
   "cell_type": "markdown",
   "id": "b5beac5d",
   "metadata": {},
   "source": [
    "## Define a model"
   ]
  },
  {
   "cell_type": "code",
   "execution_count": 17,
   "id": "a8120938",
   "metadata": {},
   "outputs": [],
   "source": [
    "model = Sequential()\n",
    "model.add(LSTM(56, input_shape=(1, 14)))\n",
    "model.add(Dense(56, activation=\"relu\"))\n",
    "model.add(Dropout(0.2))\n",
    "model.add(Dense(56, activation=\"relu\"))\n",
    "model.add(Dropout(0.2))\n",
    "model.add(Dense(56, activation=\"relu\"))\n",
    "model.add(Dropout(0.2))\n",
    "model.add(Dense(56, activation=\"relu\"))\n",
    "model.add(Dropout(0.2))\n",
    "model.add(Dense(1, activation = 'sigmoid'))\n",
    "model.compile(loss='mse', optimizer='adam')"
   ]
  },
  {
   "cell_type": "markdown",
   "id": "3d5ccb9d",
   "metadata": {},
   "source": [
    "## Print summary"
   ]
  },
  {
   "cell_type": "code",
   "execution_count": 18,
   "id": "3bbad727",
   "metadata": {},
   "outputs": [
    {
     "name": "stdout",
     "output_type": "stream",
     "text": [
      "Model: \"sequential\"\n",
      "_________________________________________________________________\n",
      " Layer (type)                Output Shape              Param #   \n",
      "=================================================================\n",
      " lstm (LSTM)                 (None, 56)                15904     \n",
      "                                                                 \n",
      " dense (Dense)               (None, 56)                3192      \n",
      "                                                                 \n",
      " dropout (Dropout)           (None, 56)                0         \n",
      "                                                                 \n",
      " dense_1 (Dense)             (None, 56)                3192      \n",
      "                                                                 \n",
      " dropout_1 (Dropout)         (None, 56)                0         \n",
      "                                                                 \n",
      " dense_2 (Dense)             (None, 56)                3192      \n",
      "                                                                 \n",
      " dropout_2 (Dropout)         (None, 56)                0         \n",
      "                                                                 \n",
      " dense_3 (Dense)             (None, 56)                3192      \n",
      "                                                                 \n",
      " dropout_3 (Dropout)         (None, 56)                0         \n",
      "                                                                 \n",
      " dense_4 (Dense)             (None, 1)                 57        \n",
      "                                                                 \n",
      "=================================================================\n",
      "Total params: 28,729\n",
      "Trainable params: 28,729\n",
      "Non-trainable params: 0\n",
      "_________________________________________________________________\n"
     ]
    }
   ],
   "source": [
    "model.summary()"
   ]
  },
  {
   "cell_type": "markdown",
   "id": "00530d58",
   "metadata": {},
   "source": [
    "## Training"
   ]
  },
  {
   "cell_type": "code",
   "execution_count": 19,
   "id": "1873ce48",
   "metadata": {},
   "outputs": [
    {
     "name": "stdout",
     "output_type": "stream",
     "text": [
      "Epoch 1/60\n",
      "1753/1753 [==============================] - 20s 8ms/step - loss: 0.0034 - val_loss: 7.4392e-04\n",
      "Epoch 2/60\n",
      "1753/1753 [==============================] - 13s 7ms/step - loss: 8.2320e-04 - val_loss: 8.4425e-04\n",
      "Epoch 3/60\n",
      "1753/1753 [==============================] - 13s 7ms/step - loss: 7.7988e-04 - val_loss: 7.2609e-04\n",
      "Epoch 4/60\n",
      "1753/1753 [==============================] - 13s 7ms/step - loss: 7.3670e-04 - val_loss: 7.7523e-04\n",
      "Epoch 5/60\n",
      "1753/1753 [==============================] - 14s 8ms/step - loss: 7.1978e-04 - val_loss: 7.4293e-04\n",
      "Epoch 6/60\n",
      "1753/1753 [==============================] - 21s 12ms/step - loss: 6.9552e-04 - val_loss: 6.9849e-04\n",
      "Epoch 7/60\n",
      "1753/1753 [==============================] - 17s 10ms/step - loss: 6.7926e-04 - val_loss: 6.9402e-04\n",
      "Epoch 8/60\n",
      "1753/1753 [==============================] - 26s 15ms/step - loss: 6.5821e-04 - val_loss: 7.4661e-04\n",
      "Epoch 9/60\n",
      "1753/1753 [==============================] - 13s 7ms/step - loss: 6.5324e-04 - val_loss: 6.9734e-04\n",
      "Epoch 10/60\n",
      "1753/1753 [==============================] - 11s 6ms/step - loss: 6.4640e-04 - val_loss: 7.1093e-04\n",
      "Epoch 11/60\n",
      "1753/1753 [==============================] - 11s 6ms/step - loss: 6.2986e-04 - val_loss: 7.0043e-04\n",
      "Epoch 12/60\n",
      "1753/1753 [==============================] - 10s 6ms/step - loss: 6.2684e-04 - val_loss: 6.8281e-04\n",
      "Epoch 13/60\n",
      "1753/1753 [==============================] - 11s 6ms/step - loss: 6.2022e-04 - val_loss: 6.9679e-04\n",
      "Epoch 14/60\n",
      "1753/1753 [==============================] - 11s 6ms/step - loss: 6.1357e-04 - val_loss: 6.9359e-04\n",
      "Epoch 15/60\n",
      "1753/1753 [==============================] - 10s 6ms/step - loss: 6.1061e-04 - val_loss: 6.7850e-04\n",
      "Epoch 16/60\n",
      "1753/1753 [==============================] - 11s 6ms/step - loss: 6.0948e-04 - val_loss: 6.9419e-04\n",
      "Epoch 17/60\n",
      "1753/1753 [==============================] - 11s 6ms/step - loss: 6.0430e-04 - val_loss: 6.9197e-04\n",
      "Epoch 18/60\n",
      "1753/1753 [==============================] - 10s 6ms/step - loss: 6.0180e-04 - val_loss: 6.9475e-04\n",
      "Epoch 19/60\n",
      "1753/1753 [==============================] - 11s 6ms/step - loss: 5.9768e-04 - val_loss: 6.7861e-04\n",
      "Epoch 20/60\n",
      "1753/1753 [==============================] - 11s 6ms/step - loss: 5.9317e-04 - val_loss: 6.8111e-04\n",
      "Epoch 21/60\n",
      "1753/1753 [==============================] - 11s 6ms/step - loss: 5.9781e-04 - val_loss: 6.9594e-04\n",
      "Epoch 22/60\n",
      "1753/1753 [==============================] - 39s 22ms/step - loss: 5.8936e-04 - val_loss: 6.6733e-04\n",
      "Epoch 23/60\n",
      "1753/1753 [==============================] - 17s 10ms/step - loss: 5.9279e-04 - val_loss: 6.9048e-04\n",
      "Epoch 24/60\n",
      "1753/1753 [==============================] - 11s 6ms/step - loss: 5.8546e-04 - val_loss: 6.9840e-04\n",
      "Epoch 25/60\n",
      "1753/1753 [==============================] - 10s 6ms/step - loss: 5.8631e-04 - val_loss: 7.1266e-04\n",
      "Epoch 26/60\n",
      "1753/1753 [==============================] - 11s 6ms/step - loss: 5.8470e-04 - val_loss: 6.8711e-04\n",
      "Epoch 27/60\n",
      "1753/1753 [==============================] - 11s 6ms/step - loss: 5.8343e-04 - val_loss: 6.8439e-04\n",
      "Epoch 28/60\n",
      "1753/1753 [==============================] - 10s 6ms/step - loss: 5.7968e-04 - val_loss: 6.9551e-04\n",
      "Epoch 29/60\n",
      "1753/1753 [==============================] - 11s 6ms/step - loss: 5.8220e-04 - val_loss: 6.8319e-04\n",
      "Epoch 30/60\n",
      "1753/1753 [==============================] - 11s 6ms/step - loss: 5.7914e-04 - val_loss: 6.6538e-04\n",
      "Epoch 31/60\n",
      "1753/1753 [==============================] - 11s 6ms/step - loss: 5.8886e-04 - val_loss: 6.8677e-04\n",
      "Epoch 32/60\n",
      "1753/1753 [==============================] - 11s 6ms/step - loss: 5.8314e-04 - val_loss: 6.7895e-04\n",
      "Epoch 33/60\n",
      "1753/1753 [==============================] - 11s 6ms/step - loss: 5.7855e-04 - val_loss: 6.6867e-04\n",
      "Epoch 34/60\n",
      "1753/1753 [==============================] - 12s 7ms/step - loss: 5.8074e-04 - val_loss: 6.6894e-04\n",
      "Epoch 35/60\n",
      "1753/1753 [==============================] - 12s 7ms/step - loss: 5.7808e-04 - val_loss: 7.0946e-04\n",
      "Epoch 36/60\n",
      "1753/1753 [==============================] - 12s 7ms/step - loss: 5.7549e-04 - val_loss: 6.6545e-04\n",
      "Epoch 37/60\n",
      "1753/1753 [==============================] - 12s 7ms/step - loss: 5.7089e-04 - val_loss: 6.8359e-04\n",
      "Epoch 38/60\n",
      "1753/1753 [==============================] - 12s 7ms/step - loss: 5.7291e-04 - val_loss: 6.7106e-04\n",
      "Epoch 39/60\n",
      "1753/1753 [==============================] - 12s 7ms/step - loss: 5.7925e-04 - val_loss: 6.8557e-04\n",
      "Epoch 40/60\n",
      "1753/1753 [==============================] - 13s 7ms/step - loss: 5.7294e-04 - val_loss: 6.7576e-04\n",
      "Epoch 41/60\n",
      "1753/1753 [==============================] - 12s 7ms/step - loss: 5.8330e-04 - val_loss: 7.0160e-04\n",
      "Epoch 42/60\n",
      "1753/1753 [==============================] - 12s 7ms/step - loss: 5.7440e-04 - val_loss: 6.6408e-04\n",
      "Epoch 43/60\n",
      "1753/1753 [==============================] - 12s 7ms/step - loss: 5.7746e-04 - val_loss: 6.7896e-04\n",
      "Epoch 44/60\n",
      "1753/1753 [==============================] - 13s 7ms/step - loss: 5.7169e-04 - val_loss: 6.7515e-04\n",
      "Epoch 45/60\n",
      "1753/1753 [==============================] - 12s 7ms/step - loss: 5.7348e-04 - val_loss: 6.7502e-04\n",
      "Epoch 46/60\n",
      "1753/1753 [==============================] - 12s 7ms/step - loss: 5.7049e-04 - val_loss: 6.7928e-04\n",
      "Epoch 47/60\n",
      "1753/1753 [==============================] - 13s 7ms/step - loss: 5.7310e-04 - val_loss: 6.8223e-04\n",
      "Epoch 48/60\n",
      "1753/1753 [==============================] - 12s 7ms/step - loss: 5.7173e-04 - val_loss: 6.8467e-04\n",
      "Epoch 49/60\n",
      "1753/1753 [==============================] - 12s 7ms/step - loss: 5.6913e-04 - val_loss: 6.7358e-04\n",
      "Epoch 50/60\n",
      "1753/1753 [==============================] - 12s 7ms/step - loss: 5.7435e-04 - val_loss: 6.5526e-04\n",
      "Epoch 51/60\n",
      "1753/1753 [==============================] - 11s 6ms/step - loss: 5.7207e-04 - val_loss: 6.7123e-04\n",
      "Epoch 52/60\n",
      "1753/1753 [==============================] - 11s 7ms/step - loss: 5.7100e-04 - val_loss: 6.7990e-04\n",
      "Epoch 53/60\n",
      "1753/1753 [==============================] - 11s 7ms/step - loss: 5.6472e-04 - val_loss: 6.8515e-04\n",
      "Epoch 54/60\n",
      "1753/1753 [==============================] - 11s 6ms/step - loss: 5.6447e-04 - val_loss: 6.7196e-04\n",
      "Epoch 55/60\n",
      "1753/1753 [==============================] - 12s 7ms/step - loss: 5.6188e-04 - val_loss: 6.8551e-04\n",
      "Epoch 56/60\n",
      "1753/1753 [==============================] - 13s 7ms/step - loss: 5.6877e-04 - val_loss: 6.8072e-04\n",
      "Epoch 57/60\n",
      "1753/1753 [==============================] - 12s 7ms/step - loss: 5.6402e-04 - val_loss: 7.0095e-04\n",
      "Epoch 58/60\n",
      "1753/1753 [==============================] - 12s 7ms/step - loss: 5.6658e-04 - val_loss: 6.6866e-04\n",
      "Epoch 59/60\n",
      "1753/1753 [==============================] - 12s 7ms/step - loss: 5.6221e-04 - val_loss: 6.7866e-04\n",
      "Epoch 60/60\n",
      "1753/1753 [==============================] - 12s 7ms/step - loss: 5.6567e-04 - val_loss: 6.7128e-04\n"
     ]
    }
   ],
   "source": [
    "history = model.fit(X_train, Y_train, validation_data=(X_val, Y_val), epochs=60, batch_size=32, verbose=1)"
   ]
  },
  {
   "cell_type": "markdown",
   "id": "cd31c00a",
   "metadata": {},
   "source": [
    "## Plot the performance"
   ]
  },
  {
   "cell_type": "code",
   "execution_count": 20,
   "id": "70f24700",
   "metadata": {},
   "outputs": [
    {
     "data": {
      "image/png": "[encoded data removed]",
      "text/plain": [
       "<Figure size 432x288 with 1 Axes>"
      ]
     },
     "metadata": {
      "needs_background": "light"
     },
     "output_type": "display_data"
    }
   ],
   "source": [
    "plt.plot(history.history['loss'], label='train')\n",
    "plt.plot(history.history['val_loss'], label='validation')\n",
    "plt.ylabel('LOSS', fontname=\"Times New Roman\", size=20,fontweight=\"bold\")\n",
    "plt.xlabel('Epochs', fontname=\"Times New Roman\", size=20,fontweight=\"bold\")\n",
    "plt.title('Loss over epochs', fontname=\"Times New Roman\", size=28,fontweight=\"bold\")\n",
    "legend_properties = {'weight':'bold'}\n",
    "plt.legend()\n",
    "plt.show()"
   ]
  },
  {
   "cell_type": "markdown",
   "id": "d4ebb99d",
   "metadata": {},
   "source": [
    "## Predict"
   ]
  },
  {
   "cell_type": "code",
   "execution_count": 21,
   "id": "bf2a8a86",
   "metadata": {},
   "outputs": [
    {
     "name": "stdout",
     "output_type": "stream",
     "text": [
      "548/548 [==============================] - 6s 8ms/step\n"
     ]
    }
   ],
   "source": [
    "prediction = model.predict(X_test)"
   ]
  },
  {
   "cell_type": "code",
   "execution_count": 22,
   "id": "75b865f7",
   "metadata": {},
   "outputs": [
    {
     "data": {
      "text/plain": [
       "0.011818068"
      ]
     },
     "execution_count": 22,
     "metadata": {},
     "output_type": "execute_result"
    }
   ],
   "source": [
    "mean_absolute_error(Y_test, prediction)"
   ]
  },
  {
   "cell_type": "code",
   "execution_count": 23,
   "id": "ee590e34",
   "metadata": {},
   "outputs": [
    {
     "data": {
      "text/plain": [
       "10177848000.0"
      ]
     },
     "execution_count": 23,
     "metadata": {},
     "output_type": "execute_result"
    }
   ],
   "source": [
    "mean_absolute_percentage_error(Y_test, prediction)"
   ]
  },
  {
   "cell_type": "code",
   "execution_count": 24,
   "id": "acd2a756",
   "metadata": {},
   "outputs": [
    {
     "data": {
      "text/plain": [
       "0.00055020297"
      ]
     },
     "execution_count": 24,
     "metadata": {},
     "output_type": "execute_result"
    }
   ],
   "source": [
    "mean_squared_error(Y_test, prediction)"
   ]
  },
  {
   "cell_type": "code",
   "execution_count": 25,
   "id": "3d65b773",
   "metadata": {},
   "outputs": [
    {
     "name": "stdout",
     "output_type": "stream",
     "text": [
      "0.02345640567378926\n"
     ]
    }
   ],
   "source": [
    "rmse = sqrt(mean_squared_error(Y_test, prediction))\n",
    "print(rmse)"
   ]
  },
  {
   "cell_type": "code",
   "execution_count": 26,
   "id": "a9aa5574",
   "metadata": {},
   "outputs": [
    {
     "name": "stdout",
     "output_type": "stream",
     "text": [
      "0.634168035539552\n"
     ]
    }
   ],
   "source": [
    "print(r2_score(Y_test, prediction))"
   ]
  },
  {
   "cell_type": "code",
   "execution_count": 27,
   "id": "6c45f6f0",
   "metadata": {},
   "outputs": [
    {
     "name": "stdout",
     "output_type": "stream",
     "text": [
      "accuracy testing = 9\n"
     ]
    }
   ],
   "source": [
    "print('accuracy testing = {}'.format(np.sum(prediction==Y_test)))"
   ]
  },
  {
   "cell_type": "markdown",
   "id": "f619fb06",
   "metadata": {},
   "source": [
    "## Compare prediction and testing data"
   ]
  },
  {
   "cell_type": "code",
   "execution_count": 28,
   "id": "f721486e",
   "metadata": {},
   "outputs": [
    {
     "data": {
      "image/png": "[encoded data removed]",
      "text/plain": [
       "<Figure size 432x288 with 1 Axes>"
      ]
     },
     "metadata": {
      "needs_background": "light"
     },
     "output_type": "display_data"
    }
   ],
   "source": [
    "plt.plot(Y_test[0:48], color='blue', label = 'Observed')\n",
    "plt.plot(prediction[0:48], color='red', label = 'Predicted')\n",
    "plt.ylabel('PM10', fontname=\"Times New Roman\", size=20,fontweight=\"bold\")\n",
    "plt.xlabel('Time(Hrs)', fontname=\"Times New Roman\", size=20,fontweight=\"bold\")\n",
    "plt.title('eMalahleni DLSTM', fontname=\"Times New Roman\", size=28,fontweight=\"bold\")\n",
    "legend_properties = {'weight':'bold'}\n",
    "plt.legend(prop=legend_properties)\n",
    "plt.show()"
   ]
  },
  {
   "cell_type": "code",
   "execution_count": null,
   "id": "de0af42c",
   "metadata": {},
   "outputs": [],
   "source": [
    "mean_absolute_error(Y_test[1:6], prediction[1:6])"
   ]
  },
  {
   "cell_type": "code",
   "execution_count": null,
   "id": "df9276ea",
   "metadata": {},
   "outputs": [],
   "source": [
    "mean_absolute_error(Y_test[1:12], prediction[1:12])"
   ]
  },
  {
   "cell_type": "code",
   "execution_count": null,
   "id": "ced5ff36",
   "metadata": {},
   "outputs": [],
   "source": [
    "mean_absolute_error(Y_test[1:18], prediction[1:18])"
   ]
  },
  {
   "cell_type": "code",
   "execution_count": null,
   "id": "e65520d0",
   "metadata": {},
   "outputs": [],
   "source": [
    "mean_absolute_error(Y_test[1:24], prediction[1:24])"
   ]
  },
  {
   "cell_type": "code",
   "execution_count": null,
   "id": "96ab38d0",
   "metadata": {},
   "outputs": [],
   "source": [
    "mean_absolute_error(Y_test[1:36], prediction[1:36])"
   ]
  },
  {
   "cell_type": "code",
   "execution_count": null,
   "id": "8b1081b5",
   "metadata": {},
   "outputs": [],
   "source": [
    "mean_absolute_error(Y_test[1:48], prediction[1:48])"
   ]
  },
  {
   "cell_type": "code",
   "execution_count": null,
   "id": "e0aae252",
   "metadata": {},
   "outputs": [],
   "source": []
  },
  {
   "cell_type": "code",
   "execution_count": null,
   "id": "e3f3f6cf",
   "metadata": {},
   "outputs": [],
   "source": [
    "rmse = sqrt(mean_squared_error(Y_test[1:6], prediction[1:6]))\n",
    "print(rmse)"
   ]
  },
  {
   "cell_type": "code",
   "execution_count": null,
   "id": "40e0928a",
   "metadata": {},
   "outputs": [],
   "source": [
    "rmse = sqrt(mean_squared_error(Y_test[1:12], prediction[1:12]))\n",
    "print(rmse)"
   ]
  },
  {
   "cell_type": "code",
   "execution_count": null,
   "id": "821f0e57",
   "metadata": {},
   "outputs": [],
   "source": [
    "rmse = sqrt(mean_squared_error(Y_test[1:18], prediction[1:18]))\n",
    "print(rmse)"
   ]
  },
  {
   "cell_type": "code",
   "execution_count": null,
   "id": "10431d3c",
   "metadata": {},
   "outputs": [],
   "source": [
    "rmse = sqrt(mean_squared_error(Y_test[1:24], prediction[1:24]))\n",
    "print(rmse)"
   ]
  },
  {
   "cell_type": "code",
   "execution_count": null,
   "id": "385dbc0f",
   "metadata": {},
   "outputs": [],
   "source": [
    "rmse = sqrt(mean_squared_error(Y_test[1:36], prediction[1:36]))\n",
    "print(rmse)"
   ]
  },
  {
   "cell_type": "code",
   "execution_count": null,
   "id": "84df9bcd",
   "metadata": {},
   "outputs": [],
   "source": [
    "rmse = sqrt(mean_squared_error(Y_test[1:48], prediction[1:48]))\n",
    "print(rmse)"
   ]
  },
  {
   "cell_type": "code",
   "execution_count": null,
   "id": "ff3b55c3",
   "metadata": {},
   "outputs": [],
   "source": []
  },
  {
   "cell_type": "code",
   "execution_count": null,
   "id": "41fb198d",
   "metadata": {},
   "outputs": [],
   "source": []
  },
  {
   "cell_type": "code",
   "execution_count": null,
   "id": "2ba2585d",
   "metadata": {},
   "outputs": [],
   "source": []
  }
 ],
 "metadata": {
  "kernelspec": {
   "display_name": "Python 3 (ipykernel)",
   "language": "python",
   "name": "python3"
  },
  "language_info": {
   "codemirror_mode": {
    "name": "ipython",
    "version": 3
   },
   "file_extension": ".py",
   "mimetype": "text/x-python",
   "name": "python",
   "nbconvert_exporter": "python",
   "pygments_lexer": "ipython3",
   "version": "3.9.7"
  }
 },
 "nbformat": 4,
 "nbformat_minor": 5
}
